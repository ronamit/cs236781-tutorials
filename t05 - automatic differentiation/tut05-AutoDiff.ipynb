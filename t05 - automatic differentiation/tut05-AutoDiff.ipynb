{
 "cells": [
  {
   "cell_type": "markdown",
   "id": "2c67fd4d",
   "metadata": {
    "slideshow": {
     "slide_type": "slide"
    }
   },
   "source": [
    "# Automatic Differentiation\n",
    "## Introduction\n",
    "\n",
    "In this tutorial, we will cover:\n",
    "\n",
    "| Motivation<br>Computational graph<br>Propagating derivatives: forward and reverse AD<br>Generalizing the computational graph<br>The backpropagation algorithm<br>Custom automatic differentiation with PyTorch | <img src=\"https://miro.medium.com/v2/resize:fit:1400/1*NzyxsrkiLjjyjiIuCf123w.png\" alt=\"Image\" style=\"width: 50%;\"> |\n",
    "|:---:|---|\n",
    "\n",
    "\n",
    "\n",
    "* Jacobians and Hessians with AD and PyTorch (Bonus)\n",
    "\n"
   ]
  },
  {
   "cell_type": "code",
   "execution_count": 1,
   "id": "ff910e96",
   "metadata": {
    "slideshow": {
     "slide_type": "skip"
    }
   },
   "outputs": [],
   "source": [
    "# Setup\n",
    "%matplotlib inline\n",
    "import os\n",
    "import sys\n",
    "import time \n",
    "import torch\n",
    "import matplotlib.pyplot as plt"
   ]
  },
  {
   "cell_type": "code",
   "execution_count": 2,
   "id": "3f3c63c5",
   "metadata": {
    "slideshow": {
     "slide_type": "skip"
    }
   },
   "outputs": [],
   "source": [
    "plt.rcParams['font.size'] = 14\n",
    "data_dir = os.path.expanduser('~/.pytorch-datasets')\n",
    "device = torch.device('cuda' if torch.cuda.is_available() else 'cpu')"
   ]
  },
  {
   "cell_type": "markdown",
   "id": "aab958cb",
   "metadata": {
    "slideshow": {
     "slide_type": "slide"
    }
   },
   "source": [
    "## Motivation\n",
    "\n",
    "- In the last tutorial, we applied **first-order algorithms** to perform optimization.\n",
    "- However, we haven't seen how to actually compute the gradients needed to apply them.\n",
    "- Let $f: \\mathbb{R}^d \\rightarrow \\mathbb{R}$. Suppose we want to compute its gradient at some point: $x^{(0)} \\in \\mathbb{R}^d$.\n",
    "- Idea: use numerical differentiation:\n",
    "    - Forward difference:\n",
    "    $$ \\left. \\frac{\\partial f}{\\partial x_i} \\right \\vert_{x=x^{(0)}} \\approx \\frac{f(x^{(0)}_1,...,x_i^{(0)}+h,...,x^{(0)}_d)-f(x^{(0)})}{h} $$\n",
    "        - Requires $d+1$ forward passes.\n",
    "    - Central difference: \n",
    "        $$ \\left. \\frac{\\partial f}{\\partial x_i} \\right \\vert_{x=x^{(0)}} \\approx \\frac{f(x^{(0)}_1,...,x_i^{(0)}+h,...,x^{(0)}_d)-f(x^{(0)}_1,...,x_i^{(0)}-h,...,x^{(0)}_d)}{2h} $$\n",
    "        - Requires $2d$ forward passes.\n",
    "\n",
    "https://en.wikipedia.org/wiki/Numerical_differentiation\n",
    "\n",
    "* Problems?\n",
    "    + Inexact.\n",
    "    + **Very expensive when the dimension is high!**"
   ]
  },
  {
   "cell_type": "markdown",
   "id": "181f9bc6",
   "metadata": {
    "slideshow": {
     "slide_type": "slide"
    }
   },
   "source": [
    "## Motivating example\n",
    "\n",
    "- Let $f(x) = f_n \\circ f_{n-1} \\circ ... \\circ f_1$ where $f_i: \\mathbb{R} \\rightarrow \\mathbb{R}$ are functions that are easy to evaluate and differentiate.\n",
    "    - More precisely, given $x=a$ we can compute $f_i(a)$ and $f_i'(a)$ in $\\mathcal{O}(1)$.\n",
    "    - Such function can be $x^c, sin(x), cos(x), exp(x)$ etc...\n",
    "- Given $a$, how can we efficiently compute $f'(a)$?\n",
    "- Using the chain rule, the derivative is given by:\n",
    "$$ f'(a) = f_n'(f_{n-1}(f_{n-2}(...f_1(a))) \\cdot ... \\cdot f_2'(f_1(a)) \\cdot f_1'(a) $$\n",
    "- Naive algorithm:\n",
    "    - Consider each term independently - $\\mathcal{O}(n^2)$.\n",
    "- Better approach (Dynamic Programming):\n",
    "    - Let $F_j(x) := (f_j \\circ ... \\circ f_1)(x)$.\n",
    "    - Compute and store $F_j(a)$ for each $1 \\leq j \\leq n-1$.\n",
    "    - Afterwards, use the stored results to compute each term in the derivative in $\\mathcal{O}(1)$.\n",
    "    - Totally, $\\mathcal{O}(n)$!\n",
    "    \n",
    "* Can we generalize what happend here?"
   ]
  },
  {
   "cell_type": "markdown",
   "id": "f0ee365b",
   "metadata": {
    "slideshow": {
     "slide_type": "slide"
    }
   },
   "source": [
    "## Computational graph\n",
    "\n",
    "- The above computation can be viewed as a directed graph $G=(V,E)$, called a **computational graph**.\n",
    "    \n",
    "- In general, a computational graph is a directed acyclic graph (DAG) $G=(V,E)$.\n",
    "- Each node has a:\n",
    "    - Type (<span style=\"color:blue\">input_variable</span>\n",
    "/<span style=\"color:orange\">input_constant</span>/`intermediate`/<span style=\"color:green\">output</span>).\n",
    "        - Type(v) is `input`(either variable or constant) iff $deg_{in}(v)=0$.\n",
    "            - Variable if requires gradient computation (model parameters etc...)\n",
    "                - Blue node.\n",
    "            - Constant otherwise (hyper-parameters, $x$ in NN architectures, etc...)\n",
    "                - Orange node.\n",
    "            - In code, determine by setting ```.requires_grad``` field.\n",
    "            - By default, False for tensors, True for built-in modules' parameters.\n",
    "        - Type(v) is `output` iff $deg_{out}(v)=0$.\n",
    "            - Green node.\n",
    "        - Otherwise, `intermediate`.\n",
    "            - Grey node.\n",
    "    - Three fields: function (```.fn```), value (```.val```) and gradient (```.grad```)."
   ]
  },
  {
   "cell_type": "markdown",
   "id": "464764d6",
   "metadata": {
    "slideshow": {
     "slide_type": "subslide"
    }
   },
   "source": [
    "In our case:\n",
    "<center><img src=\"imgs/chain.png\"/ height=70% width=70%> </center>"
   ]
  },
  {
   "cell_type": "markdown",
   "id": "602e90df",
   "metadata": {
    "slideshow": {
     "slide_type": "subslide"
    }
   },
   "source": [
    "- For each node we associate a **value** (in our case - $F_j(a)$) which is computed via a process we name **forward pass**.\n",
    "    - The values of the nodes are computed in a **topological order**.\n",
    "    - Initialize: $v_0.val \\leftarrow a$\n",
    "    - Update: $v_{j+1}.val \\leftarrow v_{j+1}.fn(v_j.val)$\n",
    "\n",
    "<center><img src=\"imgs/chain_forward.png\"/ height=70% width=70%> </center>"
   ]
  },
  {
   "cell_type": "markdown",
   "id": "216e2e38",
   "metadata": {
    "slideshow": {
     "slide_type": "slide"
    }
   },
   "source": [
    "## Propagating derivatives: forward and reverse AD\n",
    "\n",
    "- The derivative $\\frac{d v_n}{d v_0}$ can be now computed by two DP approaches.\n",
    "- Denote $D_{i,j} := \\frac{dv_i}{dv_j}(F_j(a))$.\n",
    "- First approach: by propagating the gradient from the input to the output.\n",
    "    - Invariant: $v_j.grad = \\frac{d v_j}{d v_0}(a)$.\n",
    "    - Initialize: $v_0.grad \\leftarrow 1$\n",
    "    - Update grads in a **topological order**: $v_{j+1}.grad \\leftarrow v_{j+1}.fn.derivative(v_j.val) \\cdot v_j.grad$.\n",
    "- This process is called **forward mode AD**!\n",
    "        \n",
    "<center><img src=\"imgs/chain_forwardAD.png\"/ height=70% width=70%> </center>  "
   ]
  },
  {
   "cell_type": "markdown",
   "id": "d246a217",
   "metadata": {
    "slideshow": {
     "slide_type": "subslide"
    }
   },
   "source": [
    "- Second approach: by propagating the gradient from the output to the input.\n",
    "     - Invariant: $v_j.grad = \\frac{d v_n}{d v_j}(F_j(a))$.\n",
    "     - Initialize: $v_n.grad \\leftarrow 1$\n",
    "     - Update grads in a **reverse topological order**:\n",
    "     $v_{j-1}.grad \\leftarrow v_j.fn.derivative(v_{j-1}.val) \\cdot v_j.grad$.   \n",
    "- This process is called **reverse mode AD**!\n",
    "\n",
    "<center><img src=\"imgs/chain_reverseAD.png\"/ height=70% width=70%> </center>"
   ]
  },
  {
   "cell_type": "markdown",
   "id": "63c848cf",
   "metadata": {
    "slideshow": {
     "slide_type": "slide"
    }
   },
   "source": [
    "## Generalizing the computational graph\n",
    "\n",
    "- Generalization: multiple input nodes and output nodes\n",
    "    - Forward mode AD: each node has to store the gradient w.r.t all the **input** nodes.\n",
    "    - Reverse mode AD: each node has to store the gradient of all the **output** nodes w.r.t the nodes.\n",
    "- Q: which mode should be used for computing gradients?\n"
   ]
  },
  {
   "cell_type": "markdown",
   "id": "2c032994",
   "metadata": {
    "slideshow": {
     "slide_type": "fragment"
    }
   },
   "source": [
    "- A: reverse! requires saving only one ```.grad``` per each parameter! "
   ]
  },
  {
   "cell_type": "markdown",
   "id": "1e0beb42",
   "metadata": {
    "slideshow": {
     "slide_type": "subslide"
    }
   },
   "source": [
    "- Generalization: intermediate nodes with multiple inputs and outputs!\n",
    "    - Examples:\n",
    "        - Addition/multiplication blocks with $k$ inputs\n",
    "        - Vector addition/dot product\n",
    "        - Vector elementwise operations\n",
    "        - Matrix multiplication\n",
    " "
   ]
  },
  {
   "cell_type": "markdown",
   "id": "3a2c02f9",
   "metadata": {
    "slideshow": {
     "slide_type": "subslide"
    }
   },
   "source": [
    "* Denote by $\\mathcal{N}_{in}(v)$ all the nodes incoming to $v$ and by $\\mathcal{N}_{out}(v)$ all the nodes outgoing of $v$.\n",
    "* When computing values (forward pass):\n",
    "    - Update rule becomes: $v.val \\leftarrow f_v(\\mathcal{N}_{in}(v).val)$"
   ]
  },
  {
   "cell_type": "markdown",
   "id": "facafb9b",
   "metadata": {
    "slideshow": {
     "slide_type": "fragment"
    }
   },
   "source": [
    "- When computing gradients:\n",
    "    - Consider partial derivatives for intermediate noeds with multiple inputs.\n",
    "    - Sum the update rule of the ```.grad``` field along inputs (in forward mode) and outputs (in reverse mode).\n",
    "    - Forward mode AD update becomes: $v.grad \\leftarrow \\sum_{u \\in \\mathcal{N}_{in}(v)} \\frac{\\partial f_v}{\\partial u}(\\mathcal{N}_{in}(v).val) \\cdot u.grad$. \n",
    "    "
   ]
  },
  {
   "cell_type": "markdown",
   "id": "4fb040a5",
   "metadata": {
    "slideshow": {
     "slide_type": "subslide"
    }
   },
   "source": [
    "- Reverse mode AD update becomes: $v.grad \\leftarrow \\sum_{w \\in \\mathcal{N}_{out}(v)} \\frac{\\partial f_w}{\\partial v}(\\mathcal{N}_{in}(w).val) \\cdot w.grad$. \n",
    "    - For each $w \\in \\mathcal{N}_{out}(v)$ note that $\\frac{\\partial f_w}{\\partial v}(\\mathcal{N}_{in}(w).val) \\cdot w.grad$ note that can be precomputed and stored on the edge $e=(v,w)$.\n",
    "    - Then, to compute $v.grad$, just sum the outgoing edges.\n",
    "    - Compute $\\frac{\\partial f_v}{\\partial u}(\\mathcal{N}_{in}(v).val) \\cdot v.grad$ for each $u \\in \\mathcal{N}_{in}(v)$ and stoe it on the edge $e=(u,v)$ to be used by the ingoing nodes.\n",
    "        \n",
    "<center><img src=\"imgs/backprop-modular.png\" width=\"700\"/></center>"
   ]
  },
  {
   "cell_type": "markdown",
   "id": "037f523f",
   "metadata": {
    "slideshow": {
     "slide_type": "slide"
    }
   },
   "source": [
    "### Example\n",
    "\n",
    "- Consider the function $f(x,y)=sin(xy)+e^{xy}$. \n",
    "- Compute its gradient at $(x,y)=(1,2)$ using:\n",
    "    - Manual differentiation.\n",
    "    - Forward mode AD. \n",
    "    - Reverse mode AD."
   ]
  },
  {
   "cell_type": "markdown",
   "id": "9b6e7264",
   "metadata": {
    "slideshow": {
     "slide_type": "subslide"
    }
   },
   "source": [
    "- Manual:\n",
    "$$ \\frac{\\partial}{\\partial x} f(x,y) = y cos(xy) + y e^{xy} \\rightarrow \\frac{\\partial}{\\partial x} f(1,2) = 2cos(2)+2e^2 $$\n",
    "$$ \\frac{\\partial}{\\partial y} f(x,y) = x cos(xy) + x e^{xy} \\rightarrow \\frac{\\partial}{\\partial y} f(1,2) = cos(2)+e^2 $$\n",
    "Hence the gradient at $(1,2)$ is $(2cos(2)+2e^2,cos(2)+e^2)$."
   ]
  },
  {
   "cell_type": "markdown",
   "id": "eaaf0c3a",
   "metadata": {
    "slideshow": {
     "slide_type": "subslide"
    }
   },
   "source": [
    "- For the automatic modes, let's build a computational graph for $f$!\n",
    "    - Make sure that the nodes are topologically.\n",
    "\n",
    "    <center><img src=\"imgs/example_graph.png\" width=\"700\"/></center>"
   ]
  },
  {
   "cell_type": "markdown",
   "id": "ad0a300b",
   "metadata": {
    "slideshow": {
     "slide_type": "subslide"
    }
   },
   "source": [
    "- Let's perform a forward pass!\n",
    "    - Begin by initializing the ```.val``` fields of the input nodes.\n",
    "    - Process the nodes by their order.\n",
    "    - Update the ```.val``` field by applying the function in the ```.fn``` field to the incoming nodes.\n",
    "        \n",
    "     <center><img src=\"imgs/example_forward.png\" width=\"700\"/></center>"
   ]
  },
  {
   "cell_type": "markdown",
   "id": "e96db855",
   "metadata": {
    "slideshow": {
     "slide_type": "subslide"
    }
   },
   "source": [
    "- For the forward AD let's perform a forward gradient propagation!\n",
    "    - Since there are two inputs, should repeat the process twice.\n",
    "    - Begin by initializing the ``` .grad ``` field of the revlevant **input** node to $1$ and the ```.grad ``` field of the other **input** nodes to $0$.\n",
    "    - Process the nodes in their order\n",
    "        - Compute the partial derivatives of the function in the node w.r.t their inputs.\n",
    "        - For each input - multiply the computed derivative by the ```.grad``` field of the corresponding input.\n",
    "        - Sum the \"messages\" from the input nodes to update ```.grad``` field of the node.\n",
    "    - We will demonstrate the process for $x$.\n",
    "        - The process for $y$ is left as an exercise to the reader.\n",
    "        \n"
   ]
  },
  {
   "cell_type": "markdown",
   "id": "71c30dcf",
   "metadata": {
    "slideshow": {
     "slide_type": "subslide"
    }
   },
   "source": [
    "<center><img src=\"imgs/example_forwardAD.png\" width=\"700\"/></center>"
   ]
  },
  {
   "cell_type": "markdown",
   "id": "88009363",
   "metadata": {
    "slideshow": {
     "slide_type": "subslide"
    }
   },
   "source": [
    "- For the reverse AD let's perform a reverse gradient propagation!\n",
    "    - Since there is only one output in our case, the process is done only once!\n",
    "    - Begin by:\n",
    "        - Initializing the ``` .grad ``` field of the revlevant **output** nodes to $1$ and the ```.grad ``` field of the other **output** nodes to $0$.\n",
    "        - Computing the partial derivatives of the function in the output nodes w.r.t their inputs\n",
    "        - \"Sending\" the derivatives using the corresponding edges.\n",
    "    - Process the nodes in a **reversed order**:\n",
    "        - Sum the \"messages\" in the output edges to update the ```.grad``` field of the node.\n",
    "        - Compute the partial derivatives of the function in the node w.r.t their inputs.\n",
    "        - \"send\" the derivatives using the corresponding edges.\n",
    "        \n"
   ]
  },
  {
   "cell_type": "markdown",
   "id": "06892c86",
   "metadata": {
    "slideshow": {
     "slide_type": "subslide"
    }
   },
   "source": [
    "<center><img src=\"imgs/example_reverseAD.png\" width=\"700\"/></center>"
   ]
  },
  {
   "cell_type": "markdown",
   "id": "fa838564",
   "metadata": {
    "slideshow": {
     "slide_type": "slide"
    }
   },
   "source": [
    "## The backpropagation algorithm\n",
    "\n",
    "- Essentially forward pass + reverse mode AD in the computational graph generated by a neural network.\n",
    "- For this exact reason the ```.backward()``` method supports only **scalar outputs** (otherwise, should save gradient for each output...)\n",
    "- PyTorch automatically builds computational graphs when at least one variable that requires gradient is created.\n",
    "%- We will see later on an application for the forward mode AD..."
   ]
  },
  {
   "cell_type": "markdown",
   "id": "30b28569",
   "metadata": {
    "slideshow": {
     "slide_type": "slide"
    }
   },
   "source": [
    "## Custom automatic differentiation with PyTorch"
   ]
  },
  {
   "cell_type": "markdown",
   "id": "36b491d7",
   "metadata": {
    "slideshow": {
     "slide_type": "subslide"
    }
   },
   "source": [
    "We'll now learn how to extend PyTorch's `autograd` by defining our own custom nodes in the computation graph.\n",
    "\n",
    "Lets first introduce a cousin of ReLU, the Exponential-Linear Unit (ELU) activation function:\n",
    "\n",
    "$$\n",
    "f(z) =\n",
    "\\begin{cases}\n",
    "z, & z > 0\\\\\n",
    "\\alpha \\left(e^{z}-1\\right) & z \\leq 0\n",
    "\\end{cases}\n",
    "$$"
   ]
  },
  {
   "cell_type": "markdown",
   "id": "2527cd90",
   "metadata": {
    "slideshow": {
     "slide_type": "fragment"
    }
   },
   "source": [
    "We'll pretend PyTorch does not include this activation function and implement a custom version ourselves."
   ]
  },
  {
   "cell_type": "code",
   "execution_count": 3,
   "id": "df9cae6e",
   "metadata": {
    "slideshow": {
     "slide_type": "subslide"
    }
   },
   "outputs": [],
   "source": [
    "import torch\n",
    "import torch.autograd as autograd\n",
    "import torchviz\n",
    "\n",
    "from torch import Tensor"
   ]
  },
  {
   "cell_type": "markdown",
   "id": "39b61896",
   "metadata": {
    "slideshow": {
     "slide_type": "subslide"
    }
   },
   "source": [
    "First, we'll implement just the actual computation as a standalone function so that we can reuse it later."
   ]
  },
  {
   "cell_type": "code",
   "execution_count": 4,
   "id": "0136fc37",
   "metadata": {
    "slideshow": {
     "slide_type": "fragment"
    }
   },
   "outputs": [],
   "source": [
    "def elu_forward(z: Tensor, alpha: float):\n",
    "    elu_positive = z\n",
    "    elu_negative = alpha * (torch.exp(z) - 1)\n",
    "    elu_output = torch.where(z>0, elu_positive, elu_negative)\n",
    "    return elu_output"
   ]
  },
  {
   "cell_type": "markdown",
   "id": "e863b1e0",
   "metadata": {
    "slideshow": {
     "slide_type": "subslide"
    }
   },
   "source": [
    "A quick visualization to see what it looks like:"
   ]
  },
  {
   "cell_type": "code",
   "execution_count": 5,
   "id": "fca53a6c",
   "metadata": {
    "slideshow": {
     "slide_type": "fragment"
    }
   },
   "outputs": [
    {
     "data": {
      "image/png": "[encoded data removed]",
      "text/plain": [
       "<Figure size 640x480 with 1 Axes>"
      ]
     },
     "metadata": {},
     "output_type": "display_data"
    }
   ],
   "source": [
    "z = torch.linspace(-5, 5, steps=1000)\n",
    "plt.plot(z.numpy(), torch.relu(z).numpy(), label='ReLU(z)', linewidth=5);\n",
    "plt.plot(z.numpy(), elu_forward(z, alpha=.5).numpy(), label='ELU(z)', linewidth=2); plt.legend(); plt.grid();"
   ]
  },
  {
   "cell_type": "markdown",
   "id": "27c2b96c",
   "metadata": {
    "slideshow": {
     "slide_type": "subslide"
    }
   },
   "source": [
    "Now we'll wrap it as an `nn.Module` so that we can use it as a layer in a model."
   ]
  },
  {
   "cell_type": "code",
   "execution_count": 6,
   "id": "9d3aa4eb",
   "metadata": {
    "slideshow": {
     "slide_type": "fragment"
    }
   },
   "outputs": [],
   "source": [
    "class ELU(torch.nn.Module):\n",
    "    \"\"\" ELU Activation layer \"\"\"\n",
    "    \n",
    "    def __init__(self, alpha: float = 0.1):\n",
    "        super().__init__()\n",
    "        self.alpha = alpha\n",
    "    \n",
    "    def forward(self, z: Tensor):\n",
    "        return elu_forward(z, self.alpha)"
   ]
  },
  {
   "cell_type": "markdown",
   "id": "5ce315a0",
   "metadata": {
    "slideshow": {
     "slide_type": "subslide"
    }
   },
   "source": [
    "And as usual, we can look at the resulting computation graph."
   ]
  },
  {
   "cell_type": "code",
   "execution_count": 7,
   "id": "bc4bc58a",
   "metadata": {
    "slideshow": {
     "slide_type": "fragment"
    }
   },
   "outputs": [
    {
     "data": {
      "image/svg+xml": [
       "<?xml version=\"1.0\" encoding=\"UTF-8\" standalone=\"no\"?>\n",
       "<!DOCTYPE svg PUBLIC \"-//W3C//DTD SVG 1.1//EN\"\n",
       " \"http://www.w3.org/Graphics/SVG/1.1/DTD/svg11.dtd\">\n",
       "<!-- Generated by graphviz version 2.50.0 (0)\n",
       " -->\n",
       "<!-- Pages: 1 -->\n",
       "<svg width=\"140pt\" height=\"380pt\"\n",
       " viewBox=\"0.00 0.00 140.00 380.00\" xmlns=\"http://www.w3.org/2000/svg\" xmlns:xlink=\"http://www.w3.org/1999/xlink\">\n",
       "<g id=\"graph0\" class=\"graph\" transform=\"scale(1 1) rotate(0) translate(4 376)\">\n",
       "<polygon fill=\"white\" stroke=\"transparent\" points=\"-4,4 -4,-376 136,-376 136,4 -4,4\"/>\n",
       "<!-- 5714084224 -->\n",
       "<g id=\"node1\" class=\"node\">\n",
       "<title>5714084224</title>\n",
       "<polygon fill=\"#caff70\" stroke=\"black\" points=\"77.5,-31 23.5,-31 23.5,0 77.5,0 77.5,-31\"/>\n",
       "<text text-anchor=\"middle\" x=\"50.5\" y=\"-7\" font-family=\"monospace\" font-size=\"10.00\"> (6)</text>\n",
       "</g>\n",
       "<!-- 5713775968 -->\n",
       "<g id=\"node2\" class=\"node\">\n",
       "<title>5713775968</title>\n",
       "<polygon fill=\"lightgrey\" stroke=\"black\" points=\"101,-86 0,-86 0,-67 101,-67 101,-86\"/>\n",
       "<text text-anchor=\"middle\" x=\"50.5\" y=\"-74\" font-family=\"monospace\" font-size=\"10.00\">WhereBackward0</text>\n",
       "</g>\n",
       "<!-- 5713775968&#45;&gt;5714084224 -->\n",
       "<g id=\"edge7\" class=\"edge\">\n",
       "<title>5713775968&#45;&gt;5714084224</title>\n",
       "<path fill=\"none\" stroke=\"black\" d=\"M50.5,-66.79C50.5,-60.07 50.5,-50.4 50.5,-41.34\"/>\n",
       "<polygon fill=\"black\" stroke=\"black\" points=\"54,-41.19 50.5,-31.19 47,-41.19 54,-41.19\"/>\n",
       "</g>\n",
       "<!-- 5713774288 -->\n",
       "<g id=\"node3\" class=\"node\">\n",
       "<title>5713774288</title>\n",
       "<polygon fill=\"lightgrey\" stroke=\"black\" points=\"101,-306 0,-306 0,-287 101,-287 101,-306\"/>\n",
       "<text text-anchor=\"middle\" x=\"50.5\" y=\"-294\" font-family=\"monospace\" font-size=\"10.00\">AccumulateGrad</text>\n",
       "</g>\n",
       "<!-- 5713774288&#45;&gt;5713775968 -->\n",
       "<g id=\"edge1\" class=\"edge\">\n",
       "<title>5713774288&#45;&gt;5713775968</title>\n",
       "<path fill=\"none\" stroke=\"black\" d=\"M46.13,-286.91C41.94,-278.14 35.9,-264.01 33.5,-251 23.1,-194.62 23.1,-178.38 33.5,-122 35.17,-112.95 38.6,-103.36 41.94,-95.41\"/>\n",
       "<polygon fill=\"black\" stroke=\"black\" points=\"45.23,-96.65 46.13,-86.09 38.84,-93.78 45.23,-96.65\"/>\n",
       "</g>\n",
       "<!-- 5714077296 -->\n",
       "<g id=\"node7\" class=\"node\">\n",
       "<title>5714077296</title>\n",
       "<polygon fill=\"lightgrey\" stroke=\"black\" points=\"132,-251 43,-251 43,-232 132,-232 132,-251\"/>\n",
       "<text text-anchor=\"middle\" x=\"87.5\" y=\"-239\" font-family=\"monospace\" font-size=\"10.00\">ExpBackward0</text>\n",
       "</g>\n",
       "<!-- 5713774288&#45;&gt;5714077296 -->\n",
       "<g id=\"edge6\" class=\"edge\">\n",
       "<title>5713774288&#45;&gt;5714077296</title>\n",
       "<path fill=\"none\" stroke=\"black\" d=\"M56.61,-286.75C61.78,-279.34 69.35,-268.5 75.69,-259.41\"/>\n",
       "<polygon fill=\"black\" stroke=\"black\" points=\"78.65,-261.29 81.5,-251.09 72.91,-257.29 78.65,-261.29\"/>\n",
       "</g>\n",
       "<!-- 5714083984 -->\n",
       "<g id=\"node4\" class=\"node\">\n",
       "<title>5714083984</title>\n",
       "<polygon fill=\"lightblue\" stroke=\"black\" points=\"77.5,-372 23.5,-372 23.5,-342 77.5,-342 77.5,-372\"/>\n",
       "<text text-anchor=\"middle\" x=\"50.5\" y=\"-360\" font-family=\"monospace\" font-size=\"10.00\">z</text>\n",
       "<text text-anchor=\"middle\" x=\"50.5\" y=\"-349\" font-family=\"monospace\" font-size=\"10.00\"> (6)</text>\n",
       "</g>\n",
       "<!-- 5714083984&#45;&gt;5713774288 -->\n",
       "<g id=\"edge2\" class=\"edge\">\n",
       "<title>5714083984&#45;&gt;5713774288</title>\n",
       "<path fill=\"none\" stroke=\"black\" d=\"M50.5,-341.84C50.5,-334.21 50.5,-324.7 50.5,-316.45\"/>\n",
       "<polygon fill=\"black\" stroke=\"black\" points=\"54,-316.27 50.5,-306.27 47,-316.27 54,-316.27\"/>\n",
       "</g>\n",
       "<!-- 5714076912 -->\n",
       "<g id=\"node5\" class=\"node\">\n",
       "<title>5714076912</title>\n",
       "<polygon fill=\"lightgrey\" stroke=\"black\" points=\"132,-141 43,-141 43,-122 132,-122 132,-141\"/>\n",
       "<text text-anchor=\"middle\" x=\"87.5\" y=\"-129\" font-family=\"monospace\" font-size=\"10.00\">MulBackward0</text>\n",
       "</g>\n",
       "<!-- 5714076912&#45;&gt;5713775968 -->\n",
       "<g id=\"edge3\" class=\"edge\">\n",
       "<title>5714076912&#45;&gt;5713775968</title>\n",
       "<path fill=\"none\" stroke=\"black\" d=\"M81.39,-121.75C76.22,-114.34 68.65,-103.5 62.31,-94.41\"/>\n",
       "<polygon fill=\"black\" stroke=\"black\" points=\"65.09,-92.29 56.5,-86.09 59.35,-96.29 65.09,-92.29\"/>\n",
       "</g>\n",
       "<!-- 5714077200 -->\n",
       "<g id=\"node6\" class=\"node\">\n",
       "<title>5714077200</title>\n",
       "<polygon fill=\"lightgrey\" stroke=\"black\" points=\"132,-196 43,-196 43,-177 132,-177 132,-196\"/>\n",
       "<text text-anchor=\"middle\" x=\"87.5\" y=\"-184\" font-family=\"monospace\" font-size=\"10.00\">SubBackward0</text>\n",
       "</g>\n",
       "<!-- 5714077200&#45;&gt;5714076912 -->\n",
       "<g id=\"edge4\" class=\"edge\">\n",
       "<title>5714077200&#45;&gt;5714076912</title>\n",
       "<path fill=\"none\" stroke=\"black\" d=\"M87.5,-176.75C87.5,-169.8 87.5,-159.85 87.5,-151.13\"/>\n",
       "<polygon fill=\"black\" stroke=\"black\" points=\"91,-151.09 87.5,-141.09 84,-151.09 91,-151.09\"/>\n",
       "</g>\n",
       "<!-- 5714077296&#45;&gt;5714077200 -->\n",
       "<g id=\"edge5\" class=\"edge\">\n",
       "<title>5714077296&#45;&gt;5714077200</title>\n",
       "<path fill=\"none\" stroke=\"black\" d=\"M87.5,-231.75C87.5,-224.8 87.5,-214.85 87.5,-206.13\"/>\n",
       "<polygon fill=\"black\" stroke=\"black\" points=\"91,-206.09 87.5,-196.09 84,-206.09 91,-206.09\"/>\n",
       "</g>\n",
       "</g>\n",
       "</svg>\n"
      ],
      "text/plain": [
       "<graphviz.graphs.Digraph at 0x15483b1f0>"
      ]
     },
     "execution_count": 7,
     "metadata": {},
     "output_type": "execute_result"
    }
   ],
   "source": [
    "elu = ELU(alpha=0.5)\n",
    "z = torch.tensor([-2., -1, 0, 1, 2, 3], requires_grad=True)\n",
    "torchviz.make_dot(elu(z), params=dict(z=z))"
   ]
  },
  {
   "cell_type": "markdown",
   "id": "ec4d5c04",
   "metadata": {
    "slideshow": {
     "slide_type": "subslide"
    }
   },
   "source": [
    "We can see that the computation graph accurately represents the various basic mathematical operations performed by our `elu_forward` function.\n",
    "\n",
    "But what if we want to define the entire ELU operarion as one node in the graph?\n",
    "This can be useful e.g. for performance reasons or if pytorch can't differentiate through our layer.\n",
    "\n",
    "How can we accomplish this?"
   ]
  },
  {
   "cell_type": "markdown",
   "id": "5106413b",
   "metadata": {
    "slideshow": {
     "slide_type": "subslide"
    }
   },
   "source": [
    "The solution is to use a lower-level PyTorch API, `autograd.Function`\n",
    "which allows us to define a function in terms of both it's forwards pass\n",
    "(the regular output computation), and it's **backward** pass\n",
    "(the gradient w.r.t. all its inputs)."
   ]
  },
  {
   "cell_type": "markdown",
   "id": "b54759cd",
   "metadata": {
    "slideshow": {
     "slide_type": "fragment"
    }
   },
   "source": [
    "From the PyTorch docs:\n",
    "    \n",
    ">Every operation performed on `Tensors`s creates a new `Function` object, that performs the computation, and records that it happened. The history is retained in the form of a DAG of functions, with edges denoting data dependencies (input <- output). Then, when backward is called, the graph is processed in the topological ordering, by calling `backward()` methods of each `Function` object, and passing returned gradients on to next `Function`s."
   ]
  },
  {
   "cell_type": "markdown",
   "id": "bbe88e83",
   "metadata": {
    "slideshow": {
     "slide_type": "subslide"
    }
   },
   "source": [
    "The API of an `autograd.Function` is:\n",
    "\n",
    "```python\n",
    "class MyCustomFunction(autograd.Function):\n",
    "    \n",
    "    @staticmethod\n",
    "    def forward(context, *inputs: Tensor, **kw):\n",
    "        ...\n",
    "    \n",
    "    @staticmethod\n",
    "    def backward(context, *grad_outputs: Tensor) -> Sequence[Tensor]:\n",
    "        ...\n",
    "```\n",
    "\n",
    "1. What do you think `grad_outputs` contains?\n",
    "2. What does `backward()` need to return?\n",
    "3. Why do we need a `context`?"
   ]
  },
  {
   "cell_type": "markdown",
   "id": "ba045942",
   "metadata": {
    "slideshow": {
     "slide_type": "subslide"
    }
   },
   "source": [
    "To implement the ELU as an `autograd.Function`, we'll first calculate the simple analytic derivative of the ELU function:\n",
    "$$\n",
    "\\frac{\\partial f(z)}{\\partial z} = f'(z) = \n",
    "\\begin{cases}\n",
    "1, & z > 0\\\\\n",
    "\\alpha e^{z} & z \\leq 0\n",
    "\\end{cases}\n",
    "$$"
   ]
  },
  {
   "cell_type": "markdown",
   "id": "c5e6dc33",
   "metadata": {
    "slideshow": {
     "slide_type": "subslide"
    }
   },
   "source": [
    "Next, we need to figure out how to compute the vector-Jacobian product efficiently.\n",
    "Note that for any **elementwise** operation, $\\vec{y}=f(\\vec{x}),\\ f:\\mathbb{R}^n\\rightarrow\\mathbb{R}^n$, we can write the Jacobian as\n",
    "\n",
    "$$\n",
    "\\frac{d \\vec{y}}{d \\vec{x}} = \\pmatrix{\n",
    "\\ddots & \\vdots & \\\\\n",
    "\\cdots & \\frac{\\partial y_i}{ \\partial x_j} & \\cdots \\\\\n",
    "& \\vdots & \\ddots\\\\\n",
    "}\n",
    "=\n",
    "\\pmatrix{\n",
    "f'(x_1) &  &  \\\\\n",
    "  & f'(x_i) &  \\\\\n",
    "& & f'(x_n)\\\\\n",
    "}\n",
    "= Diag\\{{f'(\\vec{x})}\\}\n",
    "$$\n",
    "\n",
    "And it follows that the VJP can be computed simply:\n",
    "$$\n",
    "\\delta \\vec{x} = \\delta{\\vec{y}}\\frac{\\partial \\vec{y}}{\\partial \\vec{x}} = \\delta{\\vec{y}} \\odot f'(\\vec{x}).\n",
    "$$"
   ]
  },
  {
   "cell_type": "markdown",
   "id": "36154af2",
   "metadata": {
    "slideshow": {
     "slide_type": "subslide"
    }
   },
   "source": [
    "Now, equipped with the expression for the VJP, we can proceed to implement the `Function` object representing ELU."
   ]
  },
  {
   "cell_type": "code",
   "execution_count": 8,
   "id": "170508be",
   "metadata": {
    "slideshow": {
     "slide_type": "fragment"
    }
   },
   "outputs": [],
   "source": [
    "class ELUFunction(autograd.Function):\n",
    "    \n",
    "    @staticmethod\n",
    "    def forward(ctx, z: Tensor, alpha: float):\n",
    "        elu = elu_forward(z, alpha) # Regular forward pass computation from before\n",
    "        ctx.save_for_backward(z)    # Tensors should be saved using this method\n",
    "        ctx.alpha = alpha           # other properties can be saved like so\n",
    "        return elu\n",
    "    \n",
    "    @staticmethod\n",
    "    def backward(ctx, grad_output):\n",
    "        z, = ctx.saved_tensors      # Validates that no in-place modifications happened on saved tensors\n",
    "        alpha = ctx.alpha\n",
    "        \n",
    "        # Calculate diagonal of d(elu(z))/dz\n",
    "        grad_positive = torch.ones_like(z)\n",
    "        grad_negative = alpha * torch.exp(z)\n",
    "        \n",
    "        # Note: This is not the full Jacobian, d(elu(z))/dz, it's the diagonal\n",
    "        grad_elu = torch.where(z>0, grad_positive, grad_negative)\n",
    "\n",
    "        # Gradient of the loss w.r.t. our output\n",
    "        δ_elu = grad_output\n",
    "        \n",
    "        # Calcualte δz = d(elu(z))/dz * δ_elu\n",
    "        # Note: elementwise multiplication equivalant to vector-Jacobian product\n",
    "        δz = grad_elu * δ_elu\n",
    "        return δz, None"
   ]
  },
  {
   "cell_type": "markdown",
   "id": "0db7bdbf",
   "metadata": {
    "slideshow": {
     "slide_type": "subslide"
    }
   },
   "source": [
    "We can now use this custom `Function` either directly or as part of a layer.\n",
    "\n",
    "For example, here's an ELU layer using our custom backward:"
   ]
  },
  {
   "cell_type": "code",
   "execution_count": 9,
   "id": "14aefc1e",
   "metadata": {
    "slideshow": {
     "slide_type": "fragment"
    }
   },
   "outputs": [],
   "source": [
    "class ELUCustom(torch.nn.Module):\n",
    "    \"\"\" ELU Layer with a custom backward pass \"\"\"\n",
    "    \n",
    "    def __init__(self, alpha: float = 0.1):\n",
    "        super().__init__()\n",
    "        self.alpha = alpha\n",
    "    \n",
    "    def forward(self, z: Tensor):\n",
    "        # Function.apply() invokesa the forward pass with a new context\n",
    "        # and updates the computation graph of the inputs\n",
    "        return ELUFunction.apply(z, self.alpha)"
   ]
  },
  {
   "cell_type": "code",
   "execution_count": 10,
   "id": "c14ee339",
   "metadata": {
    "slideshow": {
     "slide_type": "subslide"
    }
   },
   "outputs": [
    {
     "data": {
      "image/svg+xml": [
       "<?xml version=\"1.0\" encoding=\"UTF-8\" standalone=\"no\"?>\n",
       "<!DOCTYPE svg PUBLIC \"-//W3C//DTD SVG 1.1//EN\"\n",
       " \"http://www.w3.org/Graphics/SVG/1.1/DTD/svg11.dtd\">\n",
       "<!-- Generated by graphviz version 2.50.0 (0)\n",
       " -->\n",
       "<!-- Pages: 1 -->\n",
       "<svg width=\"164pt\" height=\"215pt\"\n",
       " viewBox=\"0.00 0.00 164.00 215.00\" xmlns=\"http://www.w3.org/2000/svg\" xmlns:xlink=\"http://www.w3.org/1999/xlink\">\n",
       "<g id=\"graph0\" class=\"graph\" transform=\"scale(1 1) rotate(0) translate(4 211)\">\n",
       "<polygon fill=\"white\" stroke=\"transparent\" points=\"-4,4 -4,-211 160,-211 160,4 -4,4\"/>\n",
       "<!-- 5714053776 -->\n",
       "<g id=\"node1\" class=\"node\">\n",
       "<title>5714053776</title>\n",
       "<polygon fill=\"#caff70\" stroke=\"black\" points=\"92.5,-31 38.5,-31 38.5,0 92.5,0 92.5,-31\"/>\n",
       "<text text-anchor=\"middle\" x=\"65.5\" y=\"-7\" font-family=\"monospace\" font-size=\"10.00\"> (6)</text>\n",
       "</g>\n",
       "<!-- 5714178112 -->\n",
       "<g id=\"node2\" class=\"node\">\n",
       "<title>5714178112</title>\n",
       "<polygon fill=\"lightgrey\" stroke=\"black\" points=\"131,-86 0,-86 0,-67 131,-67 131,-86\"/>\n",
       "<text text-anchor=\"middle\" x=\"65.5\" y=\"-74\" font-family=\"monospace\" font-size=\"10.00\">ELUFunctionBackward</text>\n",
       "</g>\n",
       "<!-- 5714178112&#45;&gt;5714053776 -->\n",
       "<g id=\"edge4\" class=\"edge\">\n",
       "<title>5714178112&#45;&gt;5714053776</title>\n",
       "<path fill=\"none\" stroke=\"black\" d=\"M65.5,-66.79C65.5,-60.07 65.5,-50.4 65.5,-41.34\"/>\n",
       "<polygon fill=\"black\" stroke=\"black\" points=\"69,-41.19 65.5,-31.19 62,-41.19 69,-41.19\"/>\n",
       "</g>\n",
       "<!-- 5714079360 -->\n",
       "<g id=\"node3\" class=\"node\">\n",
       "<title>5714079360</title>\n",
       "<polygon fill=\"lightgrey\" stroke=\"black\" points=\"156,-141 55,-141 55,-122 156,-122 156,-141\"/>\n",
       "<text text-anchor=\"middle\" x=\"105.5\" y=\"-129\" font-family=\"monospace\" font-size=\"10.00\">AccumulateGrad</text>\n",
       "</g>\n",
       "<!-- 5714079360&#45;&gt;5714178112 -->\n",
       "<g id=\"edge1\" class=\"edge\">\n",
       "<title>5714079360&#45;&gt;5714178112</title>\n",
       "<path fill=\"none\" stroke=\"black\" d=\"M98.89,-121.75C93.24,-114.26 84.96,-103.28 78.05,-94.13\"/>\n",
       "<polygon fill=\"black\" stroke=\"black\" points=\"80.8,-91.96 71.98,-86.09 75.21,-96.18 80.8,-91.96\"/>\n",
       "</g>\n",
       "<!-- 5353648992 -->\n",
       "<g id=\"node4\" class=\"node\">\n",
       "<title>5353648992</title>\n",
       "<polygon fill=\"orange\" stroke=\"black\" points=\"92.5,-207 38.5,-207 38.5,-177 92.5,-177 92.5,-207\"/>\n",
       "<text text-anchor=\"middle\" x=\"65.5\" y=\"-195\" font-family=\"monospace\" font-size=\"10.00\">z</text>\n",
       "<text text-anchor=\"middle\" x=\"65.5\" y=\"-184\" font-family=\"monospace\" font-size=\"10.00\"> (6)</text>\n",
       "</g>\n",
       "<!-- 5353648992&#45;&gt;5714178112 -->\n",
       "<g id=\"edge3\" class=\"edge\">\n",
       "<title>5353648992&#45;&gt;5714178112</title>\n",
       "<path fill=\"none\" stroke=\"black\" d=\"M57.55,-176.86C50.73,-163.01 42.57,-141.23 46.5,-122 48.39,-112.74 52.29,-103.03 56.07,-95.04\"/>\n",
       "<polygon fill=\"black\" stroke=\"black\" points=\"59.24,-96.53 60.62,-86.02 52.99,-93.37 59.24,-96.53\"/>\n",
       "</g>\n",
       "<!-- 5353648992&#45;&gt;5714079360 -->\n",
       "<g id=\"edge2\" class=\"edge\">\n",
       "<title>5353648992&#45;&gt;5714079360</title>\n",
       "<path fill=\"none\" stroke=\"black\" d=\"M75.18,-176.84C80.75,-168.69 87.79,-158.4 93.68,-149.78\"/>\n",
       "<polygon fill=\"black\" stroke=\"black\" points=\"96.75,-151.5 99.51,-141.27 90.97,-147.55 96.75,-151.5\"/>\n",
       "</g>\n",
       "</g>\n",
       "</svg>\n"
      ],
      "text/plain": [
       "<graphviz.graphs.Digraph at 0x15495e8b0>"
      ]
     },
     "execution_count": 10,
     "metadata": {},
     "output_type": "execute_result"
    }
   ],
   "source": [
    "elu_custom = ELUCustom(alpha=0.5)\n",
    "z = torch.tensor([-2., -1, 0, 1, 2, 3], requires_grad=True)\n",
    "torchviz.make_dot(elu_custom(z), params=dict(z=z))"
   ]
  },
  {
   "cell_type": "markdown",
   "id": "a494029a",
   "metadata": {
    "slideshow": {
     "slide_type": "subslide"
    }
   },
   "source": [
    "This only tested the forward pass. Let's now put our custom layer in the context of a larger model and see that we can backprop through it."
   ]
  },
  {
   "cell_type": "code",
   "execution_count": 11,
   "id": "dc927151",
   "metadata": {
    "slideshow": {
     "slide_type": "fragment"
    }
   },
   "outputs": [
    {
     "data": {
      "text/plain": [
       "Sequential(\n",
       "  (0): Linear(in_features=512, out_features=1024, bias=False)\n",
       "  (1): ELUCustom()\n",
       "  (2): Linear(in_features=1024, out_features=1024, bias=True)\n",
       "  (3): ELUCustom()\n",
       "  (4): Linear(in_features=1024, out_features=10, bias=True)\n",
       "  (5): Softmax(dim=1)\n",
       ")"
      ]
     },
     "execution_count": 11,
     "metadata": {},
     "output_type": "execute_result"
    }
   ],
   "source": [
    "elu_mlp = torch.nn.Sequential(\n",
    "    torch.nn.Linear(in_features=512, out_features=1024,bias=False),\n",
    "    ELUCustom(alpha=0.01),\n",
    "    torch.nn.Linear(in_features=1024, out_features=1024),\n",
    "    ELUCustom(alpha=0.01),\n",
    "    torch.nn.Linear(in_features=1024, out_features=10),\n",
    "    torch.nn.Softmax(dim=1)\n",
    ")\n",
    "\n",
    "elu_mlp"
   ]
  },
  {
   "cell_type": "code",
   "execution_count": 12,
   "id": "72fefff0",
   "metadata": {
    "slideshow": {
     "slide_type": "subslide"
    }
   },
   "outputs": [
    {
     "data": {
      "image/svg+xml": [
       "<?xml version=\"1.0\" encoding=\"UTF-8\" standalone=\"no\"?>\n",
       "<!DOCTYPE svg PUBLIC \"-//W3C//DTD SVG 1.1//EN\"\n",
       " \"http://www.w3.org/Graphics/SVG/1.1/DTD/svg11.dtd\">\n",
       "<!-- Generated by graphviz version 2.50.0 (0)\n",
       " -->\n",
       "<!-- Pages: 1 -->\n",
       "<svg width=\"475pt\" height=\"657pt\"\n",
       " viewBox=\"0.00 0.00 475.00 657.00\" xmlns=\"http://www.w3.org/2000/svg\" xmlns:xlink=\"http://www.w3.org/1999/xlink\">\n",
       "<g id=\"graph0\" class=\"graph\" transform=\"scale(1 1) rotate(0) translate(4 653)\">\n",
       "<polygon fill=\"white\" stroke=\"transparent\" points=\"-4,4 -4,-653 471,-653 471,4 -4,4\"/>\n",
       "<!-- 5714086944 -->\n",
       "<g id=\"node1\" class=\"node\">\n",
       "<title>5714086944</title>\n",
       "<polygon fill=\"#caff70\" stroke=\"black\" points=\"306.5,-31 252.5,-31 252.5,0 306.5,0 306.5,-31\"/>\n",
       "<text text-anchor=\"middle\" x=\"279.5\" y=\"-7\" font-family=\"monospace\" font-size=\"10.00\"> ()</text>\n",
       "</g>\n",
       "<!-- 5714127120 -->\n",
       "<g id=\"node2\" class=\"node\">\n",
       "<title>5714127120</title>\n",
       "<polygon fill=\"lightgrey\" stroke=\"black\" points=\"327,-86 232,-86 232,-67 327,-67 327,-86\"/>\n",
       "<text text-anchor=\"middle\" x=\"279.5\" y=\"-74\" font-family=\"monospace\" font-size=\"10.00\">MeanBackward0</text>\n",
       "</g>\n",
       "<!-- 5714127120&#45;&gt;5714086944 -->\n",
       "<g id=\"edge24\" class=\"edge\">\n",
       "<title>5714127120&#45;&gt;5714086944</title>\n",
       "<path fill=\"none\" stroke=\"black\" d=\"M279.5,-66.79C279.5,-60.07 279.5,-50.4 279.5,-41.34\"/>\n",
       "<polygon fill=\"black\" stroke=\"black\" points=\"283,-41.19 279.5,-31.19 276,-41.19 283,-41.19\"/>\n",
       "</g>\n",
       "<!-- 5714125968 -->\n",
       "<g id=\"node3\" class=\"node\">\n",
       "<title>5714125968</title>\n",
       "<polygon fill=\"lightgrey\" stroke=\"black\" points=\"336,-141 223,-141 223,-122 336,-122 336,-141\"/>\n",
       "<text text-anchor=\"middle\" x=\"279.5\" y=\"-129\" font-family=\"monospace\" font-size=\"10.00\">SoftmaxBackward0</text>\n",
       "</g>\n",
       "<!-- 5714125968&#45;&gt;5714127120 -->\n",
       "<g id=\"edge1\" class=\"edge\">\n",
       "<title>5714125968&#45;&gt;5714127120</title>\n",
       "<path fill=\"none\" stroke=\"black\" d=\"M279.5,-121.75C279.5,-114.8 279.5,-104.85 279.5,-96.13\"/>\n",
       "<polygon fill=\"black\" stroke=\"black\" points=\"283,-96.09 279.5,-86.09 276,-96.09 283,-96.09\"/>\n",
       "</g>\n",
       "<!-- 5714127600 -->\n",
       "<g id=\"node4\" class=\"node\">\n",
       "<title>5714127600</title>\n",
       "<polygon fill=\"lightgrey\" stroke=\"black\" points=\"330,-196 229,-196 229,-177 330,-177 330,-196\"/>\n",
       "<text text-anchor=\"middle\" x=\"279.5\" y=\"-184\" font-family=\"monospace\" font-size=\"10.00\">AddmmBackward0</text>\n",
       "</g>\n",
       "<!-- 5714127600&#45;&gt;5714125968 -->\n",
       "<g id=\"edge2\" class=\"edge\">\n",
       "<title>5714127600&#45;&gt;5714125968</title>\n",
       "<path fill=\"none\" stroke=\"black\" d=\"M279.5,-176.75C279.5,-169.8 279.5,-159.85 279.5,-151.13\"/>\n",
       "<polygon fill=\"black\" stroke=\"black\" points=\"283,-151.09 279.5,-141.09 276,-151.09 283,-151.09\"/>\n",
       "</g>\n",
       "<!-- 5714128272 -->\n",
       "<g id=\"node5\" class=\"node\">\n",
       "<title>5714128272</title>\n",
       "<polygon fill=\"lightgrey\" stroke=\"black\" points=\"181,-251 80,-251 80,-232 181,-232 181,-251\"/>\n",
       "<text text-anchor=\"middle\" x=\"130.5\" y=\"-239\" font-family=\"monospace\" font-size=\"10.00\">AccumulateGrad</text>\n",
       "</g>\n",
       "<!-- 5714128272&#45;&gt;5714127600 -->\n",
       "<g id=\"edge3\" class=\"edge\">\n",
       "<title>5714128272&#45;&gt;5714127600</title>\n",
       "<path fill=\"none\" stroke=\"black\" d=\"M154.44,-231.98C179.06,-223.23 217.62,-209.51 245.42,-199.62\"/>\n",
       "<polygon fill=\"black\" stroke=\"black\" points=\"246.88,-202.82 255.12,-196.17 244.53,-196.22 246.88,-202.82\"/>\n",
       "</g>\n",
       "<!-- 5714121328 -->\n",
       "<g id=\"node6\" class=\"node\">\n",
       "<title>5714121328</title>\n",
       "<polygon fill=\"lightblue\" stroke=\"black\" points=\"127.5,-317.5 73.5,-317.5 73.5,-287.5 127.5,-287.5 127.5,-317.5\"/>\n",
       "<text text-anchor=\"middle\" x=\"100.5\" y=\"-305.5\" font-family=\"monospace\" font-size=\"10.00\">4.bias</text>\n",
       "<text text-anchor=\"middle\" x=\"100.5\" y=\"-294.5\" font-family=\"monospace\" font-size=\"10.00\"> (10)</text>\n",
       "</g>\n",
       "<!-- 5714121328&#45;&gt;5714128272 -->\n",
       "<g id=\"edge4\" class=\"edge\">\n",
       "<title>5714121328&#45;&gt;5714128272</title>\n",
       "<path fill=\"none\" stroke=\"black\" d=\"M107.76,-287.22C111.85,-279.18 116.99,-269.06 121.36,-260.48\"/>\n",
       "<polygon fill=\"black\" stroke=\"black\" points=\"124.59,-261.84 126,-251.34 118.35,-258.67 124.59,-261.84\"/>\n",
       "</g>\n",
       "<!-- 5712547408 -->\n",
       "<g id=\"node7\" class=\"node\">\n",
       "<title>5712547408</title>\n",
       "<polygon fill=\"lightgrey\" stroke=\"black\" points=\"345,-251 214,-251 214,-232 345,-232 345,-251\"/>\n",
       "<text text-anchor=\"middle\" x=\"279.5\" y=\"-239\" font-family=\"monospace\" font-size=\"10.00\">ELUFunctionBackward</text>\n",
       "</g>\n",
       "<!-- 5712547408&#45;&gt;5714127600 -->\n",
       "<g id=\"edge5\" class=\"edge\">\n",
       "<title>5712547408&#45;&gt;5714127600</title>\n",
       "<path fill=\"none\" stroke=\"black\" d=\"M279.5,-231.75C279.5,-224.8 279.5,-214.85 279.5,-206.13\"/>\n",
       "<polygon fill=\"black\" stroke=\"black\" points=\"283,-206.09 279.5,-196.09 276,-206.09 283,-206.09\"/>\n",
       "</g>\n",
       "<!-- 5714126832 -->\n",
       "<g id=\"node8\" class=\"node\">\n",
       "<title>5714126832</title>\n",
       "<polygon fill=\"lightgrey\" stroke=\"black\" points=\"247,-312 146,-312 146,-293 247,-293 247,-312\"/>\n",
       "<text text-anchor=\"middle\" x=\"196.5\" y=\"-300\" font-family=\"monospace\" font-size=\"10.00\">AddmmBackward0</text>\n",
       "</g>\n",
       "<!-- 5714126832&#45;&gt;5712547408 -->\n",
       "<g id=\"edge6\" class=\"edge\">\n",
       "<title>5714126832&#45;&gt;5712547408</title>\n",
       "<path fill=\"none\" stroke=\"black\" d=\"M208.75,-292.79C221.94,-283.42 243.16,-268.33 258.92,-257.13\"/>\n",
       "<polygon fill=\"black\" stroke=\"black\" points=\"261.35,-259.7 267.47,-251.05 257.29,-253.99 261.35,-259.7\"/>\n",
       "</g>\n",
       "<!-- 5714128032 -->\n",
       "<g id=\"node9\" class=\"node\">\n",
       "<title>5714128032</title>\n",
       "<polygon fill=\"lightgrey\" stroke=\"black\" points=\"102,-378.5 1,-378.5 1,-359.5 102,-359.5 102,-378.5\"/>\n",
       "<text text-anchor=\"middle\" x=\"51.5\" y=\"-366.5\" font-family=\"monospace\" font-size=\"10.00\">AccumulateGrad</text>\n",
       "</g>\n",
       "<!-- 5714128032&#45;&gt;5714126832 -->\n",
       "<g id=\"edge7\" class=\"edge\">\n",
       "<title>5714128032&#45;&gt;5714126832</title>\n",
       "<path fill=\"none\" stroke=\"black\" d=\"M70.75,-359.43C95.56,-348.4 138.91,-329.12 167.66,-316.33\"/>\n",
       "<polygon fill=\"black\" stroke=\"black\" points=\"169.45,-319.36 177.17,-312.1 166.61,-312.97 169.45,-319.36\"/>\n",
       "</g>\n",
       "<!-- 5712878864 -->\n",
       "<g id=\"node10\" class=\"node\">\n",
       "<title>5712878864</title>\n",
       "<polygon fill=\"lightblue\" stroke=\"black\" points=\"59,-450.5 0,-450.5 0,-420.5 59,-420.5 59,-450.5\"/>\n",
       "<text text-anchor=\"middle\" x=\"29.5\" y=\"-438.5\" font-family=\"monospace\" font-size=\"10.00\">2.bias</text>\n",
       "<text text-anchor=\"middle\" x=\"29.5\" y=\"-427.5\" font-family=\"monospace\" font-size=\"10.00\"> (1024)</text>\n",
       "</g>\n",
       "<!-- 5712878864&#45;&gt;5714128032 -->\n",
       "<g id=\"edge8\" class=\"edge\">\n",
       "<title>5712878864&#45;&gt;5714128032</title>\n",
       "<path fill=\"none\" stroke=\"black\" d=\"M34.38,-420.19C37.61,-410.71 41.88,-398.21 45.34,-388.05\"/>\n",
       "<polygon fill=\"black\" stroke=\"black\" points=\"48.67,-389.13 48.59,-378.54 42.05,-386.87 48.67,-389.13\"/>\n",
       "</g>\n",
       "<!-- 5712546448 -->\n",
       "<g id=\"node11\" class=\"node\">\n",
       "<title>5712546448</title>\n",
       "<polygon fill=\"lightgrey\" stroke=\"black\" points=\"262,-378.5 131,-378.5 131,-359.5 262,-359.5 262,-378.5\"/>\n",
       "<text text-anchor=\"middle\" x=\"196.5\" y=\"-366.5\" font-family=\"monospace\" font-size=\"10.00\">ELUFunctionBackward</text>\n",
       "</g>\n",
       "<!-- 5712546448&#45;&gt;5714126832 -->\n",
       "<g id=\"edge9\" class=\"edge\">\n",
       "<title>5712546448&#45;&gt;5714126832</title>\n",
       "<path fill=\"none\" stroke=\"black\" d=\"M196.5,-359.3C196.5,-349.82 196.5,-334.38 196.5,-322.14\"/>\n",
       "<polygon fill=\"black\" stroke=\"black\" points=\"200,-322.06 196.5,-312.06 193,-322.06 200,-322.06\"/>\n",
       "</g>\n",
       "<!-- 5714125680 -->\n",
       "<g id=\"node12\" class=\"node\">\n",
       "<title>5714125680</title>\n",
       "<polygon fill=\"lightgrey\" stroke=\"black\" points=\"160,-445 77,-445 77,-426 160,-426 160,-445\"/>\n",
       "<text text-anchor=\"middle\" x=\"118.5\" y=\"-433\" font-family=\"monospace\" font-size=\"10.00\">MmBackward0</text>\n",
       "</g>\n",
       "<!-- 5714125680&#45;&gt;5712546448 -->\n",
       "<g id=\"edge10\" class=\"edge\">\n",
       "<title>5714125680&#45;&gt;5712546448</title>\n",
       "<path fill=\"none\" stroke=\"black\" d=\"M129.02,-425.8C141.65,-415.36 163.04,-397.66 178.36,-385\"/>\n",
       "<polygon fill=\"black\" stroke=\"black\" points=\"180.67,-387.63 186.15,-378.56 176.21,-382.24 180.67,-387.63\"/>\n",
       "</g>\n",
       "<!-- 5714125776 -->\n",
       "<g id=\"node13\" class=\"node\">\n",
       "<title>5714125776</title>\n",
       "<polygon fill=\"lightgrey\" stroke=\"black\" points=\"116,-511.5 15,-511.5 15,-492.5 116,-492.5 116,-511.5\"/>\n",
       "<text text-anchor=\"middle\" x=\"65.5\" y=\"-499.5\" font-family=\"monospace\" font-size=\"10.00\">AccumulateGrad</text>\n",
       "</g>\n",
       "<!-- 5714125776&#45;&gt;5714125680 -->\n",
       "<g id=\"edge11\" class=\"edge\">\n",
       "<title>5714125776&#45;&gt;5714125680</title>\n",
       "<path fill=\"none\" stroke=\"black\" d=\"M72.65,-492.3C80.91,-482.24 94.7,-465.47 105,-452.93\"/>\n",
       "<polygon fill=\"black\" stroke=\"black\" points=\"107.82,-455.01 111.47,-445.06 102.41,-450.57 107.82,-455.01\"/>\n",
       "</g>\n",
       "<!-- 5360693632 -->\n",
       "<g id=\"node14\" class=\"node\">\n",
       "<title>5360693632</title>\n",
       "<polygon fill=\"lightblue\" stroke=\"black\" points=\"104,-583 27,-583 27,-553 104,-553 104,-583\"/>\n",
       "<text text-anchor=\"middle\" x=\"65.5\" y=\"-571\" font-family=\"monospace\" font-size=\"10.00\">x</text>\n",
       "<text text-anchor=\"middle\" x=\"65.5\" y=\"-560\" font-family=\"monospace\" font-size=\"10.00\"> (10, 512)</text>\n",
       "</g>\n",
       "<!-- 5360693632&#45;&gt;5714125776 -->\n",
       "<g id=\"edge12\" class=\"edge\">\n",
       "<title>5360693632&#45;&gt;5714125776</title>\n",
       "<path fill=\"none\" stroke=\"black\" d=\"M65.5,-552.8C65.5,-543.7 65.5,-531.79 65.5,-521.9\"/>\n",
       "<polygon fill=\"black\" stroke=\"black\" points=\"69,-521.84 65.5,-511.84 62,-521.84 69,-521.84\"/>\n",
       "</g>\n",
       "<!-- 5714125632 -->\n",
       "<g id=\"node15\" class=\"node\">\n",
       "<title>5714125632</title>\n",
       "<polygon fill=\"lightgrey\" stroke=\"black\" points=\"211,-511.5 134,-511.5 134,-492.5 211,-492.5 211,-511.5\"/>\n",
       "<text text-anchor=\"middle\" x=\"172.5\" y=\"-499.5\" font-family=\"monospace\" font-size=\"10.00\">TBackward0</text>\n",
       "</g>\n",
       "<!-- 5714125632&#45;&gt;5714125680 -->\n",
       "<g id=\"edge13\" class=\"edge\">\n",
       "<title>5714125632&#45;&gt;5714125680</title>\n",
       "<path fill=\"none\" stroke=\"black\" d=\"M165.22,-492.3C156.8,-482.24 142.75,-465.47 132.25,-452.93\"/>\n",
       "<polygon fill=\"black\" stroke=\"black\" points=\"134.77,-450.48 125.67,-445.06 129.4,-454.98 134.77,-450.48\"/>\n",
       "</g>\n",
       "<!-- 5714125440 -->\n",
       "<g id=\"node16\" class=\"node\">\n",
       "<title>5714125440</title>\n",
       "<polygon fill=\"lightgrey\" stroke=\"black\" points=\"223,-577.5 122,-577.5 122,-558.5 223,-558.5 223,-577.5\"/>\n",
       "<text text-anchor=\"middle\" x=\"172.5\" y=\"-565.5\" font-family=\"monospace\" font-size=\"10.00\">AccumulateGrad</text>\n",
       "</g>\n",
       "<!-- 5714125440&#45;&gt;5714125632 -->\n",
       "<g id=\"edge14\" class=\"edge\">\n",
       "<title>5714125440&#45;&gt;5714125632</title>\n",
       "<path fill=\"none\" stroke=\"black\" d=\"M172.5,-558.37C172.5,-549.16 172.5,-534.29 172.5,-522.27\"/>\n",
       "<polygon fill=\"black\" stroke=\"black\" points=\"176,-521.91 172.5,-511.91 169,-521.91 176,-521.91\"/>\n",
       "</g>\n",
       "<!-- 5714123568 -->\n",
       "<g id=\"node17\" class=\"node\">\n",
       "<title>5714123568</title>\n",
       "<polygon fill=\"lightblue\" stroke=\"black\" points=\"217,-649 128,-649 128,-619 217,-619 217,-649\"/>\n",
       "<text text-anchor=\"middle\" x=\"172.5\" y=\"-637\" font-family=\"monospace\" font-size=\"10.00\">0.weight</text>\n",
       "<text text-anchor=\"middle\" x=\"172.5\" y=\"-626\" font-family=\"monospace\" font-size=\"10.00\"> (1024, 512)</text>\n",
       "</g>\n",
       "<!-- 5714123568&#45;&gt;5714125440 -->\n",
       "<g id=\"edge15\" class=\"edge\">\n",
       "<title>5714123568&#45;&gt;5714125440</title>\n",
       "<path fill=\"none\" stroke=\"black\" d=\"M172.5,-618.8C172.5,-609.7 172.5,-597.79 172.5,-587.9\"/>\n",
       "<polygon fill=\"black\" stroke=\"black\" points=\"176,-587.84 172.5,-577.84 169,-587.84 176,-587.84\"/>\n",
       "</g>\n",
       "<!-- 5714121888 -->\n",
       "<g id=\"node18\" class=\"node\">\n",
       "<title>5714121888</title>\n",
       "<polygon fill=\"orange\" stroke=\"black\" points=\"261,-451 178,-451 178,-420 261,-420 261,-451\"/>\n",
       "<text text-anchor=\"middle\" x=\"219.5\" y=\"-427\" font-family=\"monospace\" font-size=\"10.00\"> (10, 1024)</text>\n",
       "</g>\n",
       "<!-- 5714121888&#45;&gt;5712546448 -->\n",
       "<g id=\"edge16\" class=\"edge\">\n",
       "<title>5714121888&#45;&gt;5712546448</title>\n",
       "<path fill=\"none\" stroke=\"black\" d=\"M214.28,-419.86C210.97,-410.58 206.66,-398.5 203.11,-388.55\"/>\n",
       "<polygon fill=\"black\" stroke=\"black\" points=\"206.3,-387.07 199.65,-378.82 199.71,-389.42 206.3,-387.07\"/>\n",
       "</g>\n",
       "<!-- 5714127984 -->\n",
       "<g id=\"node19\" class=\"node\">\n",
       "<title>5714127984</title>\n",
       "<polygon fill=\"lightgrey\" stroke=\"black\" points=\"357,-378.5 280,-378.5 280,-359.5 357,-359.5 357,-378.5\"/>\n",
       "<text text-anchor=\"middle\" x=\"318.5\" y=\"-366.5\" font-family=\"monospace\" font-size=\"10.00\">TBackward0</text>\n",
       "</g>\n",
       "<!-- 5714127984&#45;&gt;5714126832 -->\n",
       "<g id=\"edge17\" class=\"edge\">\n",
       "<title>5714127984&#45;&gt;5714126832</title>\n",
       "<path fill=\"none\" stroke=\"black\" d=\"M302.3,-359.43C281.7,-348.54 245.91,-329.62 221.72,-316.84\"/>\n",
       "<polygon fill=\"black\" stroke=\"black\" points=\"223.24,-313.68 212.77,-312.1 219.97,-319.87 223.24,-313.68\"/>\n",
       "</g>\n",
       "<!-- 5714128464 -->\n",
       "<g id=\"node20\" class=\"node\">\n",
       "<title>5714128464</title>\n",
       "<polygon fill=\"lightgrey\" stroke=\"black\" points=\"380,-445 279,-445 279,-426 380,-426 380,-445\"/>\n",
       "<text text-anchor=\"middle\" x=\"329.5\" y=\"-433\" font-family=\"monospace\" font-size=\"10.00\">AccumulateGrad</text>\n",
       "</g>\n",
       "<!-- 5714128464&#45;&gt;5714127984 -->\n",
       "<g id=\"edge18\" class=\"edge\">\n",
       "<title>5714128464&#45;&gt;5714127984</title>\n",
       "<path fill=\"none\" stroke=\"black\" d=\"M328.02,-425.8C326.4,-416.32 323.77,-400.88 321.68,-388.64\"/>\n",
       "<polygon fill=\"black\" stroke=\"black\" points=\"325.09,-387.83 319.96,-378.56 318.19,-389.01 325.09,-387.83\"/>\n",
       "</g>\n",
       "<!-- 5363147376 -->\n",
       "<g id=\"node21\" class=\"node\">\n",
       "<title>5363147376</title>\n",
       "<polygon fill=\"lightblue\" stroke=\"black\" points=\"377,-517 282,-517 282,-487 377,-487 377,-517\"/>\n",
       "<text text-anchor=\"middle\" x=\"329.5\" y=\"-505\" font-family=\"monospace\" font-size=\"10.00\">2.weight</text>\n",
       "<text text-anchor=\"middle\" x=\"329.5\" y=\"-494\" font-family=\"monospace\" font-size=\"10.00\"> (1024, 1024)</text>\n",
       "</g>\n",
       "<!-- 5363147376&#45;&gt;5714128464 -->\n",
       "<g id=\"edge19\" class=\"edge\">\n",
       "<title>5363147376&#45;&gt;5714128464</title>\n",
       "<path fill=\"none\" stroke=\"black\" d=\"M329.5,-486.69C329.5,-477.41 329.5,-465.23 329.5,-455.19\"/>\n",
       "<polygon fill=\"black\" stroke=\"black\" points=\"333,-455.04 329.5,-445.04 326,-455.04 333,-455.04\"/>\n",
       "</g>\n",
       "<!-- 5714121808 -->\n",
       "<g id=\"node22\" class=\"node\">\n",
       "<title>5714121808</title>\n",
       "<polygon fill=\"orange\" stroke=\"black\" points=\"348,-318 265,-318 265,-287 348,-287 348,-318\"/>\n",
       "<text text-anchor=\"middle\" x=\"306.5\" y=\"-294\" font-family=\"monospace\" font-size=\"10.00\"> (10, 1024)</text>\n",
       "</g>\n",
       "<!-- 5714121808&#45;&gt;5712547408 -->\n",
       "<g id=\"edge20\" class=\"edge\">\n",
       "<title>5714121808&#45;&gt;5712547408</title>\n",
       "<path fill=\"none\" stroke=\"black\" d=\"M299.83,-286.92C296.18,-278.96 291.64,-269.04 287.78,-260.59\"/>\n",
       "<polygon fill=\"black\" stroke=\"black\" points=\"290.85,-258.89 283.5,-251.25 284.48,-261.8 290.85,-258.89\"/>\n",
       "</g>\n",
       "<!-- 5714127936 -->\n",
       "<g id=\"node23\" class=\"node\">\n",
       "<title>5714127936</title>\n",
       "<polygon fill=\"lightgrey\" stroke=\"black\" points=\"447,-251 370,-251 370,-232 447,-232 447,-251\"/>\n",
       "<text text-anchor=\"middle\" x=\"408.5\" y=\"-239\" font-family=\"monospace\" font-size=\"10.00\">TBackward0</text>\n",
       "</g>\n",
       "<!-- 5714127936&#45;&gt;5714127600 -->\n",
       "<g id=\"edge21\" class=\"edge\">\n",
       "<title>5714127936&#45;&gt;5714127600</title>\n",
       "<path fill=\"none\" stroke=\"black\" d=\"M387.77,-231.98C366.74,-223.34 333.95,-209.87 309.96,-200.02\"/>\n",
       "<polygon fill=\"black\" stroke=\"black\" points=\"311.18,-196.73 300.6,-196.17 308.52,-203.21 311.18,-196.73\"/>\n",
       "</g>\n",
       "<!-- 5714125344 -->\n",
       "<g id=\"node24\" class=\"node\">\n",
       "<title>5714125344</title>\n",
       "<polygon fill=\"lightgrey\" stroke=\"black\" points=\"467,-312 366,-312 366,-293 467,-293 467,-312\"/>\n",
       "<text text-anchor=\"middle\" x=\"416.5\" y=\"-300\" font-family=\"monospace\" font-size=\"10.00\">AccumulateGrad</text>\n",
       "</g>\n",
       "<!-- 5714125344&#45;&gt;5714127936 -->\n",
       "<g id=\"edge22\" class=\"edge\">\n",
       "<title>5714125344&#45;&gt;5714127936</title>\n",
       "<path fill=\"none\" stroke=\"black\" d=\"M415.32,-292.79C414.2,-284.52 412.47,-271.79 411.04,-261.21\"/>\n",
       "<polygon fill=\"black\" stroke=\"black\" points=\"414.5,-260.68 409.69,-251.24 407.56,-261.62 414.5,-260.68\"/>\n",
       "</g>\n",
       "<!-- 5359996016 -->\n",
       "<g id=\"node25\" class=\"node\">\n",
       "<title>5359996016</title>\n",
       "<polygon fill=\"lightblue\" stroke=\"black\" points=\"458,-384 375,-384 375,-354 458,-354 458,-384\"/>\n",
       "<text text-anchor=\"middle\" x=\"416.5\" y=\"-372\" font-family=\"monospace\" font-size=\"10.00\">4.weight</text>\n",
       "<text text-anchor=\"middle\" x=\"416.5\" y=\"-361\" font-family=\"monospace\" font-size=\"10.00\"> (10, 1024)</text>\n",
       "</g>\n",
       "<!-- 5359996016&#45;&gt;5714125344 -->\n",
       "<g id=\"edge23\" class=\"edge\">\n",
       "<title>5359996016&#45;&gt;5714125344</title>\n",
       "<path fill=\"none\" stroke=\"black\" d=\"M416.5,-353.69C416.5,-344.41 416.5,-332.23 416.5,-322.19\"/>\n",
       "<polygon fill=\"black\" stroke=\"black\" points=\"420,-322.04 416.5,-312.04 413,-322.04 420,-322.04\"/>\n",
       "</g>\n",
       "</g>\n",
       "</svg>\n"
      ],
      "text/plain": [
       "<graphviz.graphs.Digraph at 0x15496ac10>"
      ]
     },
     "execution_count": 12,
     "metadata": {},
     "output_type": "execute_result"
    }
   ],
   "source": [
    "x = torch.randn(10, 512, requires_grad=True)\n",
    "torchviz.make_dot(elu_mlp(x).mean(), params=dict(list(elu_mlp.named_parameters()) + [('x', x)]))"
   ]
  },
  {
   "cell_type": "markdown",
   "id": "cc6cab0a",
   "metadata": {
    "slideshow": {
     "slide_type": "subslide"
    }
   },
   "source": [
    "Let's run the backward pass and make sure we have gradients on all parameter tensors."
   ]
  },
  {
   "cell_type": "code",
   "execution_count": 13,
   "id": "4e3f2f0e",
   "metadata": {
    "slideshow": {
     "slide_type": "fragment"
    }
   },
   "outputs": [
    {
     "name": "stdout",
     "output_type": "stream",
     "text": [
      "0.weight 2.0129235167587467e-07\n",
      "2.weight 3.194509758941422e-07\n",
      "2.bias 2.9578931304286016e-08\n",
      "4.weight 3.4803895232471405e-07\n",
      "4.bias 7.567952309273096e-08\n"
     ]
    }
   ],
   "source": [
    "l = torch.sum(elu_mlp(torch.randn(10, 512, requires_grad=True)))\n",
    "l.backward()\n",
    "\n",
    "for name, param in elu_mlp.named_parameters():\n",
    "    print(f\"{name} {torch.norm(param.grad).item()}\")"
   ]
  },
  {
   "cell_type": "markdown",
   "id": "d33b4157",
   "metadata": {
    "slideshow": {
     "slide_type": "slide"
    }
   },
   "source": [
    "## Jacobians and Hessians with AD and PyTorch (Bonus)"
   ]
  },
  {
   "cell_type": "markdown",
   "id": "4bf639e1",
   "metadata": {
    "slideshow": {
     "slide_type": "fragment"
    }
   },
   "source": [
    "* In general, Jacobians and Hessains become very large for modern neural network architectures.\n",
    "* Despite their **immense** computation and memory burdens, PyTorch still provides an API for their explicit computation:\n",
    "    https://pytorch.org/functorch/stable/notebooks/jacobians_hessians.html"
   ]
  },
  {
   "cell_type": "markdown",
   "id": "078933e9",
   "metadata": {
    "slideshow": {
     "slide_type": "fragment"
    }
   },
   "source": [
    "- However, in many cases we don't really need to compute the Jacobian or the Hessian by themselves.\n",
    "- But rather products of the form $v^TJ$, $Jv$, $v^TH$, $Hv$ where:\n",
    "    - $J$ is a Jacobian matrix of some outputs w.r.t model parameters.\n",
    "    - $H$ is the Hessian matrix of model parameters.\n",
    "    - $v$ is some constant vector.\n",
    "- Such products can be carried efficiently both in theory and in PyTorch."
   ]
  },
  {
   "cell_type": "markdown",
   "id": "81294623",
   "metadata": {
    "slideshow": {
     "slide_type": "subslide"
    }
   },
   "source": [
    "Let's set a model and input for the following code parts:"
   ]
  },
  {
   "cell_type": "code",
   "execution_count": 14,
   "id": "80c0693f",
   "metadata": {
    "slideshow": {
     "slide_type": "fragment"
    }
   },
   "outputs": [],
   "source": [
    "import torch.nn as nn\n",
    "\n",
    "model = nn.Linear(100, 10)\n",
    "x = torch.randn(5, 100)"
   ]
  },
  {
   "cell_type": "markdown",
   "id": "2e8595f2",
   "metadata": {
    "slideshow": {
     "slide_type": "subslide"
    }
   },
   "source": [
    "### Vector-Jacobian Product (VJP)\n",
    "\n",
    "- Let $f: \\mathbb{R}^W \\rightarrow \\mathbb{R}^C$ be a function with multiple outputs,\n",
    "with the model parameters an inputs.\n",
    "\n",
    "- Its Jacobain matrix $J_f(w) \\in \\mathbb{R}^{C \\times W}$. \n",
    "\n",
    "- Let $v \\in \\mathbb{R}^{C \\times 1}$ be a **constant** column vector.\n",
    "\n",
    "- Hence $v^TJ_f(w) \\in \\mathbb{R}^{1 \\times W}$."
   ]
  },
  {
   "cell_type": "markdown",
   "id": "cae644cc",
   "metadata": {
    "slideshow": {
     "slide_type": "subslide"
    }
   },
   "source": [
    "- Instead of computing directly can push the (constant) vector inside the derivative:\n",
    "$$ v^TJ_f(w) = \\nabla_w (v^T f)$$\n",
    "- Compute like a regular gradient!\n",
    "- Code example:"
   ]
  },
  {
   "cell_type": "code",
   "execution_count": 15,
   "id": "ed1e4bd8",
   "metadata": {
    "slideshow": {
     "slide_type": "fragment"
    }
   },
   "outputs": [
    {
     "name": "stdout",
     "output_type": "stream",
     "text": [
      "weight 59.592594146728516\n",
      "bias 6.537693977355957\n"
     ]
    }
   ],
   "source": [
    "# Compute the Jacobian of the model outputs w.r.t model params multiplied by a constant vector\n",
    "\n",
    "model_outs = model(x)\n",
    "constant_vec = torch.randn((5, 10))\n",
    "\n",
    "# Dot product trick\n",
    "dot_prod = torch.dot(model_outs.reshape(-1),\n",
    "                       constant_vec.reshape(-1))\n",
    "\n",
    "# Compute grad\n",
    "dot_prod.backward()\n",
    "\n",
    "# Assert everything went ok \n",
    "for name, param in model.named_parameters():\n",
    "    print(f\"{name} {torch.norm(param.grad).item()}\")"
   ]
  },
  {
   "cell_type": "markdown",
   "id": "64f6ea38",
   "metadata": {
    "slideshow": {
     "slide_type": "subslide"
    }
   },
   "source": [
    "### Jacobian-Vector Product (JVP)\n",
    "\n",
    "- Let $f: \\mathbb{R}^W \\rightarrow \\mathbb{R}^C$ be a function with multiple outputs,\n",
    "with the model parameters an inputs.\n",
    "\n",
    "- Its Jacobain matrix $J_f(w) \\in \\mathbb{R}^{C \\times W}$. \n",
    "\n",
    "- Let $v \\in \\mathbb{R}^{W \\times 1}$ be a **constant** column vector.\n",
    "\n",
    "- Hence $J_f(w)v \\in \\mathbb{R}^{C \\times 1}$."
   ]
  },
  {
   "cell_type": "markdown",
   "id": "76a06ed4",
   "metadata": {
    "slideshow": {
     "slide_type": "fragment"
    }
   },
   "source": [
    "- Trick: consider $w(t) = w + vt$. Note that $w(0)=w$ and $\\dot{w}(0)=v$.\n",
    "- Consider now $g(t) := f(w(t))$. Note that $g: \\mathbb{R} \\rightarrow \\mathbb{R}^C$.\n",
    "- Note that $g(t)$ has a **single** input and **multiple** outputs, therby its derivative can be efficiently computed using a **forward mode AD**!\n",
    "- Howerver, $\\dot{g}(t) = J_f(w(t)) \\cdot \\dot{w}(t)$. In particular, $\\dot{g}(0) = J_f(w) \\cdot v$ which is exactly what we wanted to compute!\n",
    "- In practice, we don't need to actually add $t$ to the computational graph.\n",
    "    - Instead, just set the ```.grad``` of each parameter $w_i$ to be the corresponding entry of $v$, namely  $v_i$.\n",
    "    - Then, propagate gradients forward as before."
   ]
  },
  {
   "cell_type": "markdown",
   "id": "c60ab53b",
   "metadata": {
    "slideshow": {
     "slide_type": "fragment"
    }
   },
   "source": [
    "* The PyTorch implementation of forward mode AD uses the context of dual numbers.\n",
    "* Each dual number consists of primal (```.val``` in our implementation) and tangent (```.grad``` in our implementation)."
   ]
  },
  {
   "cell_type": "code",
   "execution_count": 16,
   "id": "049110b9",
   "metadata": {
    "slideshow": {
     "slide_type": "subslide"
    }
   },
   "outputs": [],
   "source": [
    "# First, let's reset the gradients from the previous stage\n",
    "for p in model.parameters():\n",
    "    if p.requires_grad:\n",
    "        p.grad = None"
   ]
  },
  {
   "cell_type": "code",
   "execution_count": 17,
   "id": "b93a04cd",
   "metadata": {
    "slideshow": {
     "slide_type": "fragment"
    }
   },
   "outputs": [
    {
     "name": "stdout",
     "output_type": "stream",
     "text": [
      "JVP: tensor([[ 12.9747,   5.1294,  10.9688,   8.9754,   8.5315,   6.5809,  10.1785,\n",
      "          12.7517,   7.9965,   9.0048],\n",
      "        [  0.1476,   3.3589,   0.6669,   5.4944,   7.9856,   6.1468,   3.6670,\n",
      "           0.4737,  -0.4132,   5.0854],\n",
      "        [ -2.2306,  -1.5348,  -0.3690,  -0.5163,  -0.6187,  -3.8976,   7.6771,\n",
      "          -3.4724,  -0.1764,  -2.0414],\n",
      "        [ -5.7417,  -9.9915, -10.9281,  -7.3273,  -7.7580,  -8.8694,  -6.7291,\n",
      "          -7.1619,  -4.3795, -13.5380],\n",
      "        [ -3.7550,  -1.5950,  -2.0433,   0.9276,   2.2509,  -3.8973,   2.5104,\n",
      "           1.4369,  -3.9529,  -0.8301]], grad_fn=<AddBackward0>)\n"
     ]
    }
   ],
   "source": [
    "import torch.autograd.forward_ad as fwAD\n",
    "\n",
    "params = {name: p for name, p in model.named_parameters()}\n",
    "constant_vec = {name: torch.rand_like(p) for name, p in params.items()}\n",
    "\n",
    "with fwAD.dual_level():\n",
    "    \n",
    "    # Manually set '.tangent' to propagate grads forward\n",
    "    for name, p in params.items():\n",
    "        delattr(model, name)\n",
    "        setattr(model, name, fwAD.make_dual(p, constant_vec[name]))\n",
    "    \n",
    "    # Apply model\n",
    "    out = model(x)\n",
    "    \n",
    "    # Extract the '.tangent' of the output node\n",
    "    jvp = fwAD.unpack_dual(out).tangent\n",
    "            \n",
    "# Assert everything went ok \n",
    "print(f\"JVP: {jvp}\")"
   ]
  },
  {
   "cell_type": "markdown",
   "id": "6841ed70",
   "metadata": {
    "slideshow": {
     "slide_type": "subslide"
    }
   },
   "source": [
    "### Vector-Hessian and Hessian-Vector Products\n",
    "\n",
    "- $f: \\mathbb{R}^W \\rightarrow \\mathbb{R}$ be a single output function.\n",
    "- Observation: the Hessian of $f$ is Jacobian of its gradient:\n",
    "$$ \\nabla^2 f = J( \\nabla f )$$\n",
    "- Therefore, like before, to compute vector-hessian product, one can push the vector inside the jacobian:\n",
    "$$ v^T \\nabla^2 f = v^T J( \\nabla f) = \\nabla ( v^T (\\nabla f)) $$.\n",
    "- Note that this requires constructing the computational graph of $\\nabla f$!"
   ]
  },
  {
   "cell_type": "code",
   "execution_count": 18,
   "id": "e3087956",
   "metadata": {
    "slideshow": {
     "slide_type": "fragment"
    }
   },
   "outputs": [],
   "source": [
    "# Reset model\n",
    "model = nn.Linear(100, 10)"
   ]
  },
  {
   "cell_type": "code",
   "execution_count": 19,
   "id": "a3775348",
   "metadata": {
    "slideshow": {
     "slide_type": "fragment"
    }
   },
   "outputs": [
    {
     "name": "stdout",
     "output_type": "stream",
     "text": [
      "weight 17.78291893005371\n",
      "bias 1.3691229820251465\n"
     ]
    }
   ],
   "source": [
    "from torch.nn.functional import cross_entropy\n",
    "\n",
    "constant_vec = [torch.randn_like(p) for p in model.parameters()]\n",
    "\n",
    "# Apply model\n",
    "out = model(x)\n",
    "# Apply arbitrary loss function for a scalar output\n",
    "loss = cross_entropy(out, \n",
    "                     torch.ones(x.shape[0]).type(torch.long))\n",
    "\n",
    "# Compute gradient and create its computational graph\n",
    "grad = torch.autograd.grad(loss, model.parameters(), create_graph=True)\n",
    "# Flatten copy of the gradient to be used later\n",
    "flat_grad = torch.cat([g.contiguous().view(-1) for g in grad])\n",
    "\n",
    "# Flatten vector\n",
    "flat_vec = torch.cat([v.contiguous().view(-1) for v in constant_vec])\n",
    "dot_prod = torch.dot(flat_grad, flat_vec)\n",
    "\n",
    "# Compute vhp\n",
    "dot_prod.backward()\n",
    "\n",
    "# Assert everything went ok \n",
    "for name, param in model.named_parameters():\n",
    "    print(f\"{name} {torch.norm(param.grad).item()}\")"
   ]
  },
  {
   "cell_type": "markdown",
   "id": "619c263b",
   "metadata": {
    "slideshow": {
     "slide_type": "fragment"
    }
   },
   "source": [
    "* HVPs: essentially the same, left as an exercise to the reader."
   ]
  },
  {
   "cell_type": "markdown",
   "id": "f3e345e6",
   "metadata": {
    "slideshow": {
     "slide_type": "notes"
    }
   },
   "source": [
    "## Credits"
   ]
  },
  {
   "cell_type": "markdown",
   "id": "51f2712c",
   "metadata": {
    "slideshow": {
     "slide_type": "notes"
    }
   },
   "source": [
    "This tutorial was mostly written by Mitchell Keren Taraday.\n",
    "\n",
    "The \"Custom automatic differentiation with PyTorch\" chapter is taken from Aviv A. Rosenberg's tutorial.\n",
    "\n",
    "Image credits:\n",
    "- https://en.wikipedia.org/wiki/Automatic_differentiation"
   ]
  }
 ],
 "metadata": {
  "celltoolbar": "Slideshow",
  "kernelspec": {
   "display_name": "Python 3 (ipykernel)",
   "language": "python",
   "name": "python3"
  },
  "language_info": {
   "codemirror_mode": {
    "name": "ipython",
    "version": 3
   },
   "file_extension": ".py",
   "mimetype": "text/x-python",
   "name": "python",
   "nbconvert_exporter": "python",
   "pygments_lexer": "ipython3",
   "version": "3.8.12"
  }
 },
 "nbformat": 4,
 "nbformat_minor": 5
}
