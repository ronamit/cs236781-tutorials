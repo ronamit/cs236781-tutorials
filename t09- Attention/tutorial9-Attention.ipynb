{
 "cells": [
  {
   "cell_type": "markdown",
   "metadata": {
    "slideshow": {
     "slide_type": "slide"
    }
   },
   "source": [
    "$$\n",
    "\\newcommand{\\mat}[1]{\\boldsymbol {#1}}\n",
    "\\newcommand{\\mattr}[1]{\\boldsymbol {#1}^\\top}\n",
    "\\newcommand{\\matinv}[1]{\\boldsymbol {#1}^{-1}}\n",
    "\\newcommand{\\vec}[1]{\\boldsymbol {#1}}\n",
    "\\newcommand{\\vectr}[1]{\\boldsymbol {#1}^\\top}\n",
    "\\newcommand{\\rvar}[1]{\\mathrm {#1}}\n",
    "\\newcommand{\\rvec}[1]{\\boldsymbol{\\mathrm{#1}}}\n",
    "\\newcommand{\\diag}{\\mathop{\\mathrm {diag}}}\n",
    "\\newcommand{\\set}[1]{\\mathbb {#1}}\n",
    "\\newcommand{\\norm}[1]{\\left\\lVert#1\\right\\rVert}\n",
    "\\newcommand{\\pderiv}[2]{\\frac{\\partial #1}{\\partial #2}}\n",
    "\\newcommand{\\bb}[1]{\\boldsymbol{#1}}\n",
    "\\newcommand{\\Tr}[0]{^\\top}\n",
    "\\newcommand{\\softmax}[1]{\\mathrm{softmax}\\left({#1}\\right)}\n",
    "$$\n",
    "\n",
    "# CS236781: Deep Learning\n",
    "# Tutorial 8: Attention"
   ]
  },
  {
   "cell_type": "markdown",
   "metadata": {
    "slideshow": {
     "slide_type": "subslide"
    }
   },
   "source": [
    "## Introduction\n",
    "\n",
    "In this tutorial, we will cover:\n",
    "\n",
    "- Attention mechanisms\n",
    "- Sequence to sequence models for machine translation\n",
    "- Implementing attention\n",
    "- Using attention for alignment during translation"
   ]
  },
  {
   "cell_type": "code",
   "execution_count": 1,
   "metadata": {
    "execution": {
     "iopub.execute_input": "2022-03-24T07:25:15.707910Z",
     "iopub.status.busy": "2022-03-24T07:25:15.707373Z",
     "iopub.status.idle": "2022-03-24T07:25:16.993157Z",
     "shell.execute_reply": "2022-03-24T07:25:16.992767Z"
    },
    "slideshow": {
     "slide_type": "subslide"
    }
   },
   "outputs": [],
   "source": [
    "# Setup\n",
    "%matplotlib inline\n",
    "import os\n",
    "import sys\n",
    "import math\n",
    "import time\n",
    "import tqdm\n",
    "import torch\n",
    "import matplotlib.pyplot as plt\n",
    "import warnings\n",
    "warnings.simplefilter(\"ignore\")"
   ]
  },
  {
   "cell_type": "code",
   "execution_count": 2,
   "metadata": {
    "execution": {
     "iopub.execute_input": "2022-03-24T07:25:16.995346Z",
     "iopub.status.busy": "2022-03-24T07:25:16.995233Z",
     "iopub.status.idle": "2022-03-24T07:25:17.008877Z",
     "shell.execute_reply": "2022-03-24T07:25:17.008540Z"
    },
    "slideshow": {
     "slide_type": "fragment"
    }
   },
   "outputs": [],
   "source": [
    "plt.rcParams['font.size'] = 20\n",
    "data_dir = os.path.expanduser('~/.pytorch-datasets')\n",
    "device = torch.device('cuda' if torch.cuda.is_available() else 'cpu')"
   ]
  },
  {
   "cell_type": "markdown",
   "metadata": {
    "slideshow": {
     "slide_type": "slide"
    }
   },
   "source": [
    "## Theory reminders"
   ]
  },
  {
   "cell_type": "markdown",
   "metadata": {
    "slideshow": {
     "slide_type": "skip"
    }
   },
   "source": [
    "### RNNs"
   ]
  },
  {
   "cell_type": "markdown",
   "metadata": {
    "slideshow": {
     "slide_type": "skip"
    }
   },
   "source": [
    "In the context of learning from **sequences** of inputs, we have seen RNNs as a model capable of learning a transformation of one sequence into another."
   ]
  },
  {
   "cell_type": "markdown",
   "metadata": {
    "slideshow": {
     "slide_type": "skip"
    }
   },
   "source": [
    "A two-layer basic RNN:\n",
    "\n",
    "<center><img src=\"img/rnn_layered.png\" width=\"1100\" /></center>"
   ]
  },
  {
   "cell_type": "markdown",
   "metadata": {
    "slideshow": {
     "slide_type": "subslide"
    }
   },
   "source": [
    "Where, for each layer $l\\geq 0$ (layer zero is the input) and \"time\" $t > 0$, a vanilla RNN is defined by:\n",
    "\n",
    "$$\n",
    "\\begin{align}\n",
    "\\vec{h}_t^l &= \\varphi_1\\left( \\mat{W}_{hh}^l \\vec{h}_{t-1}^l + \\mat{W}_{xh}^l \\vec{x}_t^{l-1} + \\vec{b}_h^l\\right) \\\\\n",
    "\\vec{x}_t^l &= \\varphi_2\\left(\\mat{W}_{hy}^l\\vec{h}_t^l + \\vec{b}_x^l \\right).\n",
    "\\end{align}\n",
    "$$"
   ]
  },
  {
   "cell_type": "markdown",
   "metadata": {
    "slideshow": {
     "slide_type": "skip"
    }
   },
   "source": [
    "Over time \"fancy\" versions of RNNs became popular, mainly LSTMs and more recently **GRU**s:\n",
    "\n",
    "<center><img src=\"img/GRU.png\" width=1100 /></center>\n",
    "\n",
    "The main idea is to have \"soft-gates\" ($\\vec{r}_t$ and $\\vec{z}_t$) that control how much of the previous state ($\\vec{h}_{t-1}$) affects the next state $\\vec{h}_t$ relative to the proposed next state $\\tilde{\\vec{h}}_{t}$.\n",
    "\n",
    "In practice these models can be trained more effectively on longer sequences and therefore can model longer dependencies compared to vanilla RNNs."
   ]
  },
  {
   "cell_type": "markdown",
   "metadata": {
    "slideshow": {
     "slide_type": "skip"
    }
   },
   "source": [
    "However, RNNs (even the fancy ones) still generally have some major drawbacks:"
   ]
  },
  {
   "cell_type": "markdown",
   "metadata": {
    "slideshow": {
     "slide_type": "skip"
    }
   },
   "source": [
    "1. Input must be processed sequentially.\n",
    "2. Hard to train on long sequences (needs BPTT). LSTMs and GRUs don't suffer from vanishing gradients, but gradients explode.\n",
    "3. Difficult to learn long-term dependencies, e.g. between late outputs and early inputs. The **hidden state** has the burden of \"remembering\" the \"meaning\" of the entire sequence so far.\n",
    "\n",
    "All of the above yeild a difficulty to focus on what's actually matters!"
   ]
  },
  {
   "cell_type": "markdown",
   "metadata": {
    "slideshow": {
     "slide_type": "subslide"
    }
   },
   "source": [
    "### Encoder-decoder architectures"
   ]
  },
  {
   "cell_type": "markdown",
   "metadata": {
    "slideshow": {
     "slide_type": "subslide"
    }
   },
   "source": [
    "A common architecture used in many tasks is the encoder-decoder pattern.\n",
    "\n",
    "- The **encoder** maps the input to some latent representation, usually of a low dimension.\n",
    "- The **decoder** applies a different mapping, from the latent space to some other space (sometimes back to the input space)."
   ]
  },
  {
   "cell_type": "markdown",
   "metadata": {
    "slideshow": {
     "slide_type": "fragment"
    }
   },
   "source": [
    "<center><img src=\"img/enc_dec.png\" width=800 /></center>"
   ]
  },
  {
   "cell_type": "markdown",
   "metadata": {
    "slideshow": {
     "slide_type": "fragment"
    }
   },
   "source": [
    "Some common use cases are e.g.\n",
    "- Nonlinear dimentionality reduction: Autoencoders\n",
    "- Generative models: VAEs\n",
    "- Machine translation: Seq2Seq models"
   ]
  },
  {
   "cell_type": "markdown",
   "metadata": {
    "slideshow": {
     "slide_type": "subslide"
    }
   },
   "source": [
    "### Attention"
   ]
  },
  {
   "cell_type": "markdown",
   "metadata": {
    "slideshow": {
     "slide_type": "fragment"
    }
   },
   "source": [
    "In deep learning contexts, **attention** is a term used for a family of related mechanisms which, in general, learn to predict some probability distribution over a sequence of elements.\n",
    "\n",
    "Intuitively, this allows a model to \"pay more attention\" to elements from the sequence which get a higher probability weight.\n",
    "\n",
    "\n",
    "<center><img src=\"img/attention-glasses.png\" width=600 /></center>\n",
    "<center><img src=\"img/attention-text.png\" width=600 /></center>\n",
    "\n",
    "photoes: Wikimedia"
   ]
  },
  {
   "cell_type": "markdown",
   "metadata": {
    "slideshow": {
     "slide_type": "subslide"
    }
   },
   "source": [
    "Neuroscientists have long studied [attention](http://www.scholarpedia.org/article/Attention) as an important cognitive process.\n",
    "\n",
    "It is described as the ability of organisms to *‘select a subset of available information upon which to focus for enhanced processing and integration’*\n",
    "\n",
    "Visual attention, for example, is an active area of research. Our ability to focus on specific area of a visual scene and extract and process the information that is streamed to our brain is thought to be an evolutionary trait that all but guaranteed the survival of our species."
   ]
  },
  {
   "cell_type": "markdown",
   "metadata": {
    "slideshow": {
     "slide_type": "subslide"
    }
   },
   "source": [
    "In Deep Learning, an attention mechanisms can be defined formally as follows."
   ]
  },
  {
   "cell_type": "markdown",
   "metadata": {
    "slideshow": {
     "slide_type": "subslide"
    }
   },
   "source": [
    "Given:\n",
    "- $n$ **key-value** pairs: $\\left\\{\\left(\\vec{k}_i, \\vec{v}_i\\right)\\right\\}_{i=1}^{n}$, where $\\vec{k}_i\\in\\set{R}^{d_k}$, $\\vec{v}_i\\in\\set{R}^{d_v}$\n",
    "- A **query**, $\\vec{q} \\in\\set{R}^{d_q}$ (the input)\n",
    "- Some similarity (sometimes called *energy*) function between keys and queries, $e: \\set{R}^{d_k}\\times \\set{R}^{d_q} \\mapsto \\set{R}$"
   ]
  },
  {
   "cell_type": "markdown",
   "metadata": {
    "slideshow": {
     "slide_type": "subslide"
    }
   },
   "source": [
    "A *soft*-attention mechanism computes a weighted sum of the **values**,\n",
    "\n",
    "$$\n",
    "\\vec{y} = \\sum_{i=1}^{n} a_i \\vec{v}_i\\ \\in \\set{R}^{d_v},\n",
    "$$"
   ]
  },
  {
   "cell_type": "markdown",
   "metadata": {
    "slideshow": {
     "slide_type": "fragment"
    }
   },
   "source": [
    "where **attention weights** $a_i$ for query $\\vec{q}$ are computed according the the similarity between the **query** and each **key**:\n",
    "\n",
    "$$\n",
    "\\begin{align}\n",
    "b_i &= e(\\vec{k}_i, \\vec{q}) \\in \\mathbb{R}\\\\\n",
    "\\vec{b} &= \\left[  b_1, \\dots, b_n \\right]\\Tr \\\\\n",
    "\\vec{a} &= \\softmax{\\vec{b}}.\n",
    "\\end{align}\n",
    "$$\n"
   ]
  },
  {
   "cell_type": "markdown",
   "metadata": {
    "slideshow": {
     "slide_type": "subslide"
    }
   },
   "source": [
    "It's also possible to define *hard*-attention by using the weights $\\vec{a}$ as a discrete distribution over the values, and sample a single $\\vec{v}_i$ from this distribution:\n",
    "\n",
    "$$\n",
    "\\vec{y} \\sim \\mathrm{Multinoulli}\\left(\\vec{a}; \\left\\{\\vec{v}_i\\right\\}_{i=1}^{n}\\right)\n",
    "$$\n",
    "\n",
    "In this case the attention output is stochastic."
   ]
  },
  {
   "cell_type": "markdown",
   "metadata": {
    "slideshow": {
     "slide_type": "subslide"
    }
   },
   "source": [
    "<center><img src=https://theaisummer.com/static/e497f0d469418119f9db9c53b9851e61/b9460/self-attention-explained.png width=\"1500\" /></center>"
   ]
  },
  {
   "cell_type": "markdown",
   "metadata": {
    "slideshow": {
     "slide_type": "subslide"
    }
   },
   "source": [
    "A famous example of attention from an image-captioning paper ([Xu et al. 2015](http://proceedings.mlr.press/v37/xuc15.pdf)):\n",
    "<center><img src=\"img/xu2015_1.png\" width=\"1500\" /></center>"
   ]
  },
  {
   "cell_type": "markdown",
   "metadata": {
    "slideshow": {
     "slide_type": "subslide"
    }
   },
   "source": [
    "Core ideas of this model:\n",
    "- Use pre-trained CNN  to extract `14x14=196` 512-dimensional convolutional feature maps from an image: \"location annotations\"\n",
    "- Train LSTM to generate image caption word by word\n",
    "- Learn to apply attention to the annotations (keys/values) based on LSTM hidden state (query)\n",
    "- Include the attention-weighted annotations in the next hidden state\n",
    "\n",
    "<center><img src=\"img/xu2015_2.png\" width=\"1200\"/></center>"
   ]
  },
  {
   "cell_type": "markdown",
   "metadata": {
    "slideshow": {
     "slide_type": "subslide"
    }
   },
   "source": [
    "### Multiplicative attention"
   ]
  },
  {
   "cell_type": "markdown",
   "metadata": {
    "slideshow": {
     "slide_type": "fragment"
    }
   },
   "source": [
    "One basic type of attention mechanism uses a simple **dot product** as the similarity function.\n",
    "\n",
    "Widely-used by models based on the **Transformer** architecture."
   ]
  },
  {
   "cell_type": "markdown",
   "metadata": {
    "slideshow": {
     "slide_type": "subslide"
    }
   },
   "source": [
    "Assume $d_k=d_q=d$, then\n",
    "\n",
    "$$\n",
    "e(\\vec{k},\\vec{q})= \\frac{\\vectr{k}\\vec{q}}{\\sqrt{d}}.\n",
    "$$\n",
    "\n",
    "Why scale by $\\sqrt{d}$ ?\n"
   ]
  },
  {
   "cell_type": "markdown",
   "metadata": {
    "slideshow": {
     "slide_type": "skip"
    }
   },
   "source": [
    "\n",
    "See [here](https://ai.stackexchange.com/a/41539) \n", 
   ]
  },
  {
   "cell_type": "markdown",
   "metadata": {
    "slideshow": {
     "slide_type": "subslide"
    }
   },
   "source": [
    "Let's now deal with $m$ queries simultaneously by stacking them as rows in a matrix $\\mat{Q} \\in \\set{R}^{m\\times d}$."
   ]
  },
  {
   "cell_type": "markdown",
   "metadata": {
    "slideshow": {
     "slide_type": "fragment"
    }
   },
   "source": [
    "Similarly, we'll stack the keys and values as rows in their own matrices, $\\mat{K}\\in\\set{R}^{n\\times d}$, $\\mat{V}\\in\\set{R}^{n\\times d_v}$."
   ]
  },
  {
   "cell_type": "markdown",
   "metadata": {
    "slideshow": {
     "slide_type": "subslide"
    }
   },
   "source": [
    "Then we can compute the attention weights for all queries simultaneously:\n",
    "\n",
    "$$\n",
    "\\begin{align}\n",
    "\\mat{B} &= \\frac{1}{\\sqrt{d}} \\mat{Q}\\mattr{K}  \\ \\in\\set{R}^{m\\times n} \\\\\n",
    "\\mat{A} &= \\softmax{\\mat{B}}_{\\mathrm{dim}=1}, \\in\\set{R}^{m\\times n} \\\\\n",
    "\\mat{Y} &= \\mat{A}\\mat{V} \\ \\in\\set{R}^{m\\times d_v}.\n",
    "\\end{align}\n",
    "$$"
   ]
  },
  {
   "cell_type": "markdown",
   "metadata": {
    "slideshow": {
     "slide_type": "fragment"
    }
   },
   "source": [
    "Note that the softmax is applied per-row, and so each row $i$ of $\\mat{A}$ contains the attention weights for the $i$th query."
   ]
  },
  {
   "cell_type": "markdown",
   "metadata": {
    "slideshow": {
     "slide_type": "fragment"
    }
   },
   "source": [
    "Also notice that in this formulation, we **input a sequence** of $m$ queries and get an **output sequence** of $m$ weighed values."
   ]
  },
  {
   "cell_type": "markdown",
   "metadata": {
    "slideshow": {
     "slide_type": "subslide"
    }
   },
   "source": [
    "### Additive attention"
   ]
  },
  {
   "cell_type": "markdown",
   "metadata": {
    "slideshow": {
     "slide_type": "fragment"
    }
   },
   "source": [
    "Another common type of attention mechanism uses an MLP to **learn** the similarity function $e(\\vec{k},\\vec{q})$."
   ]
  },
  {
   "cell_type": "markdown",
   "metadata": {
    "slideshow": {
     "slide_type": "fragment"
    }
   },
   "source": [
    "In this type of attention, the similarity function is \n",
    "\n",
    "$$\n",
    "e(\\vec{k},\\vec{q}) = \\vectr{w} \\tanh(\\mat{W}_k\\vec{k} + \\mat{W}_q\\vec{q}),\n",
    "$$\n",
    "\n",
    "where $\\mat{W}_k\\in\\set{R}^{h\\times d_k}$, $\\mat{W}_q\\in\\set{R}^{h\\times d_q}$ and $\\vec{w}\\in\\set{R}^{h}$ are trainable parameters."
   ]
  },
  {
   "cell_type": "markdown",
   "metadata": {
    "slideshow": {
     "slide_type": "fragment"
    }
   },
   "source": [
    "- Notice that we're adding projected versions of the key and query and applying a 2-layer MLP.\n",
    "- Both projections and the output layer are trainable."
   ]
  },
  {
   "cell_type": "markdown",
   "metadata": {
    "slideshow": {
     "slide_type": "subslide"
    }
   },
   "source": [
    "### Self-Attention"
   ]
  },
  {
   "cell_type": "markdown",
   "metadata": {
    "slideshow": {
     "slide_type": "fragment"
    }
   },
   "source": [
    "Self-attention refers to applying attention on a **single sequence**  $\\left\\{\\vec{x}_i\\right\\}_{i=1}^{n}$ of elements.\n",
    "\n",
    "The keys, values and queries are either:\n",
    "- The elements themselves\n",
    "- Computed from them with **learned** linear projections, i.e.\n",
    "$$\n",
    "\\begin{align*}\n",
    "\\vec{q}_{i} &= \\mat{W}_{xq}\\vec{x}_{i} &\n",
    "\\vec{k}_{i} &= \\mat{W}_{xk}\\vec{x}_{i} &\n",
    "\\vec{v}_{i} &= \\mat{W}_{xv}\\vec{x}_{i} \n",
    "\\end{align*}\n",
    "$$\n",
    "This is what Transformer models do for Seq2Seq, instead of using RNNs."
   ]
  },
  {
   "cell_type": "markdown",
   "metadata": {
    "slideshow": {
     "slide_type": "subslide"
    }
   },
   "source": [
    "<center><img src=\"img/att.png\" width=900></center>\n",
    "\n",
    "Source: Getting meaning from text: self-attention step-by-step video, Peltarion blogpost"
   ]
  },
  {
   "cell_type": "markdown",
   "metadata": {
    "slideshow": {
     "slide_type": "slide"
    }
   },
   "source": [
    "## Part 1: Sequence-to-Sequence Machine Translation"
   ]
  },
  {
   "cell_type": "markdown",
   "metadata": {
    "slideshow": {
     "slide_type": "fragment"
    }
   },
   "source": [
    "In this part we'll translate text from German to English.\n",
    "\n",
    "The general approach using RNNs is to design a Sequence-to-sequence (**Seq2Seq**) Encoder-Decoder architecture:"
   ]
  },
  {
   "cell_type": "markdown",
   "metadata": {
    "slideshow": {
     "slide_type": "subslide"
    }
   },
   "source": [
    "<center><img src=\"img/seq2seq1.png\" width=\"1100\" /></center>"
   ]
  },
  {
   "cell_type": "markdown",
   "metadata": {
    "slideshow": {
     "slide_type": "fragment"
    }
   },
   "source": [
    "- The encoder processes the source sequence\n",
    "- The final encoder hidden state represents the entire source sequence\n",
    "- This representation is passed to the decoder as it's initial hidden state\n",
    "- During training the decoder is fed with the target sequence\n",
    "- Both parts are trained together, end to end\n",
    "\n",
    "We'll implement this idea roughly based on [Sutskever et al. (2014)](https://arxiv.org/abs/1409.3215)."
   ]
  },
  {
   "cell_type": "markdown",
   "metadata": {
    "slideshow": {
     "slide_type": "subslide"
    }
   },
   "source": [
    "BTW, is this encoder-decoder model also a **Generative** model?\n",
    "\n",
    "I.e., can we use this model, once trained, to generate coherent sentences in English?"
   ]
  },
  {
   "cell_type": "markdown",
   "metadata": {
    "slideshow": {
     "slide_type": "fragment"
    }
   },
   "source": [
    "Theoretically we could... If we could somehow engineer an initial context vector that has a meaning.\n",
    "But how can we sample such an input context vector?\n",
    "\n",
    "In practice, without enforcing some kind of constraints on $z$, we can't."
   ]
  },
  {
   "cell_type": "markdown",
   "metadata": {
    "slideshow": {
     "slide_type": "subslide"
    }
   },
   "source": [
    "### Dataset\n",
    "\n",
    "We'll use the [Multi30K](https://www.statmt.org/wmt16/multimodal-task.html) Multimodal Dataset, which contains 30K images and sentences describing them in both German and English. We'll only use the textual data.\n",
    "\n",
    "The `torchtext` package provides us with a convenient way to load our dataset."
   ]
  },
  {
   "cell_type": "code",
   "execution_count": 3,
   "metadata": {
    "execution": {
     "iopub.execute_input": "2022-03-24T07:25:17.012705Z",
     "iopub.status.busy": "2022-03-24T07:25:17.012595Z",
     "iopub.status.idle": "2022-03-24T07:25:18.180152Z",
     "shell.execute_reply": "2022-03-24T07:25:18.179746Z"
    },
    "slideshow": {
     "slide_type": "subslide"
    }
   },
   "outputs": [],
   "source": [
    "from torchtext.datasets import Multi30k\n",
    "from torchtext.data import Field\n",
    "\n",
    "# Common args for field objects\n",
    "field_args = dict(tokenize='spacy',\n",
    "                  init_token='<sos>',\n",
    "                  eos_token='<eos>',\n",
    "                  include_lengths=True,\n",
    "                  lower=True) \n",
    "\n",
    "# Field for processing German source\n",
    "src_field = Field(tokenizer_language=\"de_core_news_sm\", **field_args)\n",
    "\n",
    "# Field for processing English target\n",
    "tgt_field = Field(tokenizer_language=\"en_core_web_sm\", **field_args)"
   ]
  },
  {
   "cell_type": "code",
   "execution_count": 4,
   "metadata": {
    "execution": {
     "iopub.execute_input": "2022-03-24T07:25:18.182163Z",
     "iopub.status.busy": "2022-03-24T07:25:18.182055Z",
     "iopub.status.idle": "2022-03-24T07:25:24.264153Z",
     "shell.execute_reply": "2022-03-24T07:25:24.263814Z"
    },
    "slideshow": {
     "slide_type": "fragment"
    }
   },
   "outputs": [],
   "source": [
    "ds_train, ds_valid, ds_test = Multi30k.splits(\n",
    "    root=data_dir, exts=('.de', '.en'), fields=(src_field, tgt_field)\n",
    ")\n",
    "\n",
    "VOCAB_MIN_FREQ = 2 # ignore very rare words to decrease vocab size\n",
    "src_field.build_vocab(ds_train, min_freq=VOCAB_MIN_FREQ)\n",
    "tgt_field.build_vocab(ds_train, min_freq=VOCAB_MIN_FREQ)"
   ]
  },
  {
   "cell_type": "code",
   "execution_count": 5,
   "metadata": {
    "execution": {
     "iopub.execute_input": "2022-03-24T07:25:24.266235Z",
     "iopub.status.busy": "2022-03-24T07:25:24.266109Z",
     "iopub.status.idle": "2022-03-24T07:25:24.283361Z",
     "shell.execute_reply": "2022-03-24T07:25:24.283094Z"
    },
    "slideshow": {
     "slide_type": "subslide"
    }
   },
   "outputs": [
    {
     "name": "stdout",
     "output_type": "stream",
     "text": [
      "#train samples:  29000\n",
      "#valid samples:  1014\n",
      "#test  samples:  1000\n"
     ]
    }
   ],
   "source": [
    "print('#train samples: ', len(ds_train))\n",
    "print('#valid samples: ', len(ds_valid))\n",
    "print('#test  samples: ', len(ds_test))"
   ]
  },
  {
   "cell_type": "code",
   "execution_count": 6,
   "metadata": {
    "execution": {
     "iopub.execute_input": "2022-03-24T07:25:24.285057Z",
     "iopub.status.busy": "2022-03-24T07:25:24.284955Z",
     "iopub.status.idle": "2022-03-24T07:25:24.299571Z",
     "shell.execute_reply": "2022-03-24T07:25:24.299277Z"
    },
    "slideshow": {
     "slide_type": "fragment"
    }
   },
   "outputs": [
    {
     "name": "stdout",
     "output_type": "stream",
     "text": [
      "source vocab size: 7854\n",
      "target vocab size: 5893\n"
     ]
    }
   ],
   "source": [
    "V_src = len(src_field.vocab)\n",
    "print(f'source vocab size: {V_src}')\n",
    "\n",
    "V_tgt = len(tgt_field.vocab)\n",
    "print(f'target vocab size: {V_tgt}')"
   ]
  },
  {
   "cell_type": "markdown",
   "metadata": {
    "slideshow": {
     "slide_type": "subslide"
    }
   },
   "source": [
    "Let's print a few random samples from the dataset:"
   ]
  },
  {
   "cell_type": "code",
   "execution_count": 7,
   "metadata": {
    "execution": {
     "iopub.execute_input": "2022-03-24T07:25:24.301260Z",
     "iopub.status.busy": "2022-03-24T07:25:24.301162Z",
     "iopub.status.idle": "2022-03-24T07:25:24.316225Z",
     "shell.execute_reply": "2022-03-24T07:25:24.315961Z"
    },
    "slideshow": {
     "slide_type": "fragment"
    }
   },
   "outputs": [
    {
     "name": "stdout",
     "output_type": "stream",
     "text": [
      "sample#27784:\n",
      "\tDE: drei männer begutachten kleidung in einem bekleidungsgeschäft .\n",
      "\tEN: three men examining clothing in a clothing shop .\n",
      "sample#24900:\n",
      "\tDE: mehrere leute in kostümen von disneyfilmfiguren gehen die straße runter .\n",
      "\tEN: several people in costumes from disney movies are walking down a street .\n",
      "sample#25357:\n",
      "\tDE: mehrere männer in weißen kochjacken arbeiten in einer küche .\n",
      "\tEN: several men in white chef 's jackets work in a kitchen .\n",
      "sample#13837:\n",
      "\tDE: zwei welpen zerren an einem lappen im gras .\n",
      "\tEN: two puppies are tugging on a rag in the grass .\n",
      "sample#11126:\n",
      "\tDE: zwei kinder hängen von einem niedrigen ast herab .\n",
      "\tEN: two children hang from a low tree branch\n"
     ]
    }
   ],
   "source": [
    "import random\n",
    "for _ in range(5):\n",
    "    i = random.randrange(len(ds_train))\n",
    "    example = ds_train[i]\n",
    "    src = str.join(\" \", example.src)\n",
    "    tgt = str.join(\" \", example.trg)\n",
    "    print(f'sample#{i:05d}:\\n\\tDE: {src}\\n\\tEN: {tgt}')"
   ]
  },
  {
   "cell_type": "markdown",
   "metadata": {
    "slideshow": {
     "slide_type": "subslide"
    }
   },
   "source": [
    "Remember that we're using a **tokenizer** which assigned a number to each token (~=word), and creates some **special tokens**:"
   ]
  },
  {
   "cell_type": "code",
   "execution_count": 8,
   "metadata": {
    "execution": {
     "iopub.execute_input": "2022-03-24T07:25:24.317886Z",
     "iopub.status.busy": "2022-03-24T07:25:24.317787Z",
     "iopub.status.idle": "2022-03-24T07:25:24.332254Z",
     "shell.execute_reply": "2022-03-24T07:25:24.331978Z"
    },
    "scrolled": false,
    "slideshow": {
     "slide_type": "fragment"
    }
   },
   "outputs": [
    {
     "name": "stdout",
     "output_type": "stream",
     "text": [
      "DE top30: ['<unk>', '<pad>', '<sos>', '<eos>', '.', 'ein', 'einem', 'in', 'eine', ',', 'und', 'mit', 'auf', 'mann', 'einer', 'der', 'frau', 'die', 'zwei', 'einen', 'im', 'an', 'von', 'sich', 'dem', 'mädchen', 'junge', 'vor', 'zu', 'steht']\n",
      "\n",
      "EN top30: ['<unk>', '<pad>', '<sos>', '<eos>', 'a', '.', 'in', 'the', 'on', 'man', 'is', 'and', 'of', 'with', 'woman', ',', 'two', 'are', 'to', 'people', 'at', 'an', 'wearing', 'shirt', 'young', 'white', 'black', 'his', 'while', 'blue']\n",
      "\n"
     ]
    }
   ],
   "source": [
    "topn = 30\n",
    "print(f'DE top{topn}: {src_field.vocab.itos[0:topn]}\\n')\n",
    "print(f'EN top{topn}: {tgt_field.vocab.itos[0:topn]}\\n')"
   ]
  },
  {
   "cell_type": "code",
   "execution_count": 9,
   "metadata": {
    "execution": {
     "iopub.execute_input": "2022-03-24T07:25:24.334009Z",
     "iopub.status.busy": "2022-03-24T07:25:24.333909Z",
     "iopub.status.idle": "2022-03-24T07:25:24.348467Z",
     "shell.execute_reply": "2022-03-24T07:25:24.348155Z"
    },
    "slideshow": {
     "slide_type": "fragment"
    }
   },
   "outputs": [
    {
     "name": "stdout",
     "output_type": "stream",
     "text": [
      "<unk>=0, <pad>=1\n"
     ]
    }
   ],
   "source": [
    "UNK_TOKEN = tgt_field.vocab.stoi['<unk>']\n",
    "PAD_TOKEN = tgt_field.vocab.stoi['<pad>']\n",
    "\n",
    "print(f'<unk>={UNK_TOKEN}, <pad>={PAD_TOKEN}')"
   ]
  },
  {
   "cell_type": "markdown",
   "metadata": {
    "slideshow": {
     "slide_type": "subslide"
    }
   },
   "source": [
    "Let's create a data loader and look at the generated batches."
   ]
  },
  {
   "cell_type": "code",
   "execution_count": 10,
   "metadata": {
    "execution": {
     "iopub.execute_input": "2022-03-24T07:25:24.350175Z",
     "iopub.status.busy": "2022-03-24T07:25:24.350074Z",
     "iopub.status.idle": "2022-03-24T07:25:24.364723Z",
     "shell.execute_reply": "2022-03-24T07:25:24.364407Z"
    },
    "slideshow": {
     "slide_type": "fragment"
    }
   },
   "outputs": [],
   "source": [
    "from torchtext.data import BucketIterator\n",
    "\n",
    "BATCH_SIZE = 4\n",
    "dl_train, dl_valid, dl_test = BucketIterator.splits((ds_train, ds_valid, ds_test), batch_size = BATCH_SIZE)"
   ]
  },
  {
   "cell_type": "code",
   "execution_count": 11,
   "metadata": {
    "execution": {
     "iopub.execute_input": "2022-03-24T07:25:24.366390Z",
     "iopub.status.busy": "2022-03-24T07:25:24.366309Z",
     "iopub.status.idle": "2022-03-24T07:25:24.398915Z",
     "shell.execute_reply": "2022-03-24T07:25:24.398656Z"
    },
    "slideshow": {
     "slide_type": "subslide"
    }
   },
   "outputs": [
    {
     "name": "stdout",
     "output_type": "stream",
     "text": [
      "x0 (S1, B):\n",
      " tensor([[   2,    2,    2,    2],\n",
      "        [  18, 1515,    5,    5],\n",
      "        [1856,   41,  572,   70],\n",
      "        [   0,   52,  303,   26],\n",
      "        [ 373,   12,   39, 1147],\n",
      "        [  64,   14, 4647,   23],\n",
      "        [  17,   34,  197,   24],\n",
      "        [   0,   47,  787,  215],\n",
      "        [   7,    6,    9,    9],\n",
      "        [   6,  275,   35,   64],\n",
      "        [ 112,    4,    5,  334],\n",
      "        [ 837,    3,  610,   28],\n",
      "        [   4,    1,   25,  469],\n",
      "        [   3,    1,  441,    4],\n",
      "        [   1,    1,    4,    3],\n",
      "        [   1,    1,    3,    1]]) torch.Size([16, 4])\n",
      "x0_len (B,):\n",
      " tensor([14, 12, 16, 15]) torch.Size([4])\n",
      "y0 (S2, B)):\n",
      " tensor([[   2,    2,    2,    2],\n",
      "        [  16,    4,    4,    4],\n",
      "        [ 937,  381,  665,   53],\n",
      "        [   0,   12,  940,   34],\n",
      "        [  17,   19,   27,   10],\n",
      "        [ 658,   36, 3373, 1463],\n",
      "        [  54,   83,  607,    7],\n",
      "        [   0,    4,   42,  123],\n",
      "        [   6,   39, 4144,   68],\n",
      "        [   4,   71,   28,   18],\n",
      "        [  70,   18,   82,  818],\n",
      "        [ 840,    4,   33,  141],\n",
      "        [   3,  206,  229,    5],\n",
      "        [   1,    3,    3,    3]]) torch.Size([14, 4])\n",
      "y0_len: (B,)\n",
      " tensor([13, 14, 14, 14]) torch.Size([4])\n"
     ]
    }
   ],
   "source": [
    "# dataloader returns a Batch object with .src and .trg attributes\n",
    "b0 = next(iter(dl_train))\n",
    "\n",
    "# The .src/.trg attributes contain tuples of sequences and their lengths\n",
    "# Get batches of sequences \n",
    "x0, x0_len = b0.src\n",
    "y0, y0_len =  b0.trg\n",
    "\n",
    "print('x0 (S1, B):\\n', x0, x0.shape)\n",
    "print('x0_len (B,):\\n', x0_len, x0_len.shape)\n",
    "print('y0 (S2, B)):\\n', y0, y0.shape)\n",
    "print('y0_len: (B,)\\n', y0_len, y0_len.shape)"
   ]
  },
  {
   "cell_type": "markdown",
   "metadata": {
    "slideshow": {
     "slide_type": "subslide"
    }
   },
   "source": [
    "### Model"
   ]
  },
  {
   "cell_type": "markdown",
   "metadata": {
    "slideshow": {
     "slide_type": "fragment"
    }
   },
   "source": [
    "Our *encoder* can be very simple. \n",
    "- Embed each source-language token in the sequence into a dense vector representation\n",
    "- Feed the sequence through an RNN (we'll use a multilayer GRU)\n",
    "- Output the final hidden states from each layer\n",
    "\n",
    "Note that we also return the intermediate hidden states from the last layer. We'll need these later."
   ]
  },
  {
   "cell_type": "code",
   "execution_count": 12,
   "metadata": {
    "execution": {
     "iopub.execute_input": "2022-03-24T07:25:24.400783Z",
     "iopub.status.busy": "2022-03-24T07:25:24.400704Z",
     "iopub.status.idle": "2022-03-24T07:25:24.416436Z",
     "shell.execute_reply": "2022-03-24T07:25:24.416127Z"
    },
    "slideshow": {
     "slide_type": "subslide"
    }
   },
   "outputs": [],
   "source": [
    "import torch.nn as nn\n",
    "\n",
    "class Seq2SeqEncoder(nn.Module):\n",
    "    def __init__(self, vocab_size, embedding_dim, num_layers, h_dim, dropout=0.2):\n",
    "        super().__init__()\n",
    "        \n",
    "        # nn.Embedding converts from token index to dense tensor\n",
    "        self.embedding = nn.Embedding(vocab_size, embedding_dim)\n",
    "        \n",
    "        # PyTorch multilayer GRU RNN\n",
    "        self.rnn = nn.GRU(embedding_dim, h_dim, num_layers=num_layers, dropout=dropout)\n",
    "        \n",
    "        # Encoder has no output layer; we just return hidden states.\n",
    "        \n",
    "    def forward(self, x, **kw):\n",
    "        # x shape: (S, B) Note batch dim is not first!\n",
    "        S, B = x.shape\n",
    "        embedded = self.embedding(x) # embedded shape: (S, B, E)\n",
    "        \n",
    "        # GRU first  output: all hidden states from last layer (S, B, H)\n",
    "        # GRU second output: last hidden state from each layer (L, B, H)\n",
    "        h, ht = self.rnn(embedded)\n",
    "        return h, ht"
   ]
  },
  {
   "cell_type": "markdown",
   "metadata": {
    "slideshow": {
     "slide_type": "subslide"
    }
   },
   "source": [
    "Test the encoder with a batch of German sentences:"
   ]
  },
  {
   "cell_type": "code",
   "execution_count": 13,
   "metadata": {
    "execution": {
     "iopub.execute_input": "2022-03-24T07:25:24.418226Z",
     "iopub.status.busy": "2022-03-24T07:25:24.418146Z",
     "iopub.status.idle": "2022-03-24T07:25:24.454412Z",
     "shell.execute_reply": "2022-03-24T07:25:24.454068Z"
    },
    "slideshow": {
     "slide_type": "fragment"
    }
   },
   "outputs": [
    {
     "name": "stdout",
     "output_type": "stream",
     "text": [
      "h (S1, B, H): torch.Size([16, 4, 64])\n",
      "ht (L, B, H): torch.Size([2, 4, 64])\n"
     ]
    }
   ],
   "source": [
    "EMB_DIM = 128\n",
    "HID_DIM = 64\n",
    "NUM_LAYERS = 2\n",
    "\n",
    "enc = Seq2SeqEncoder(V_src, EMB_DIM, NUM_LAYERS, HID_DIM)\n",
    "h, ht = enc(x0)\n",
    "print(f'h (S1, B, H): {h.shape}')\n",
    "print(f'ht (L, B, H): {ht.shape}')"
   ]
  },
  {
   "cell_type": "markdown",
   "metadata": {
    "slideshow": {
     "slide_type": "fragment"
    }
   },
   "source": [
    "Which of these outputs do we need to use?"
   ]
  },
  {
   "cell_type": "markdown",
   "metadata": {
    "slideshow": {
     "slide_type": "subslide"
    }
   },
   "source": [
    "Now the *decoder*. We need to:\n",
    "- Embed target-language tokens\n",
    "- Apply RNN to the sequence, with initial hidden state from encoder\n",
    "- Output is projection of intermediate hidden states from last layer to target-language tokens"
   ]
  },
  {
   "cell_type": "code",
   "execution_count": 14,
   "metadata": {
    "execution": {
     "iopub.execute_input": "2022-03-24T07:25:24.456647Z",
     "iopub.status.busy": "2022-03-24T07:25:24.456538Z",
     "iopub.status.idle": "2022-03-24T07:25:24.473715Z",
     "shell.execute_reply": "2022-03-24T07:25:24.473368Z"
    },
    "slideshow": {
     "slide_type": "subslide"
    }
   },
   "outputs": [],
   "source": [
    "class Seq2SeqDecoder(nn.Module):\n",
    "    def __init__(self, vocab_size, embedding_dim, num_layers, h_dim, dropout=0.2):\n",
    "        super().__init__()\n",
    "        \n",
    "        # nn.Embedding converts from token index to dense tensor\n",
    "        self.embedding = nn.Embedding(vocab_size, embedding_dim)\n",
    "        \n",
    "        # PyTorch multilayer GRU RNN\n",
    "        self.rnn = nn.GRU(embedding_dim, h_dim, num_layers=num_layers, dropout=dropout)\n",
    "        \n",
    "        # Output layer, note the output dimension!\n",
    "        self.out_fc = nn.Linear(h_dim, vocab_size)\n",
    "        \n",
    "    def forward(self, x, context, **kw):\n",
    "        # x shape: (S, B) the target-language sequence\n",
    "        # context: (L, B, H) the last hidden state from the encoder\n",
    "        S, B = x.shape\n",
    "        embedded = self.embedding(x) # embedded shape: (S, B, E)\n",
    "        \n",
    "        # Note initial hidden state is the input context vector\n",
    "        # h:  all hidden states from last layer (S, B, H)\n",
    "        # ht: last hidden state from each layer (L, B, H)\n",
    "        h, ht = self.rnn(embedded, context)\n",
    "        \n",
    "        # Project H back to the vocab size V, to get a score per word\n",
    "        out = self.out_fc(h)\n",
    "        \n",
    "        # Out shapes: (S, B, V) and (L, B, H)\n",
    "        return out, ht"
   ]
  },
  {
   "cell_type": "markdown",
   "metadata": {
    "slideshow": {
     "slide_type": "subslide"
    }
   },
   "source": [
    "Test the decoder with the corresponding batch of English sentences:"
   ]
  },
  {
   "cell_type": "code",
   "execution_count": 15,
   "metadata": {
    "execution": {
     "iopub.execute_input": "2022-03-24T07:25:24.475796Z",
     "iopub.status.busy": "2022-03-24T07:25:24.475678Z",
     "iopub.status.idle": "2022-03-24T07:25:24.510768Z",
     "shell.execute_reply": "2022-03-24T07:25:24.510446Z"
    },
    "slideshow": {
     "slide_type": "fragment"
    }
   },
   "outputs": [
    {
     "name": "stdout",
     "output_type": "stream",
     "text": [
      "yhat (S2, B, V_tgt): torch.Size([14, 4, 5893])\n"
     ]
    }
   ],
   "source": [
    "dec = Seq2SeqDecoder(V_tgt, EMB_DIM, NUM_LAYERS, HID_DIM)\n",
    "yhat, _ = dec(y0, ht) # note possibly different S\n",
    "print(f'yhat (S2, B, V_tgt): {yhat.shape}')"
   ]
  },
  {
   "cell_type": "markdown",
   "metadata": {
    "slideshow": {
     "slide_type": "subslide"
    }
   },
   "source": [
    "Next, we'll implement a `Seq2Seq` class to handle the combined forward pass through both the encoder and decoder.\n",
    "\n",
    "We saw that we need to input the target sequence to the decoder.\n",
    "That's fine for training.\n",
    "But what do we do for inference, when we obviously don't know the target sequence?"
   ]
  },
  {
   "cell_type": "markdown",
   "metadata": {
    "slideshow": {
     "slide_type": "subslide"
    }
   },
   "source": [
    "During the forward pass, we'll take a source and target sequence and:\n",
    "- **source**: Forward the source sequence through the encoder, obtaining the final hidden state.\n",
    "- **target**: For the decoder, we'll either do:\n",
    "    - \"Teacher forcing\": Feed the decoder tokens from the target sequence one by one.\n",
    "    - \"Greedy prediction\": Use the decoder's output to predict the most likely next token, and feed it.\n",
    "\n",
    "The greedy prediction approach is what we'll use for inference. For training we'll use **both**."
   ]
  },
  {
   "cell_type": "markdown",
   "metadata": {
    "slideshow": {
     "slide_type": "subslide"
    }
   },
   "source": [
    "Teacher forcing:\n",
    "<center><img src=\"img/seq2seq.svg\" width=\"1100\"></center>"
   ]
  },
  {
   "cell_type": "markdown",
   "metadata": {
    "slideshow": {
     "slide_type": "fragment"
    }
   },
   "source": [
    "Greedy prediction:\n",
    "<center><img src=\"img/seq2seq_predict.svg\" width=\"1100\"></center>"
   ]
  },
  {
   "cell_type": "markdown",
   "metadata": {
    "slideshow": {
     "slide_type": "subslide"
    }
   },
   "source": [
    "Note that obviously in both cases the target sequence is still used to compute the loss.\n",
    "\n",
    "Teacher forcing can speed up training, but it can hurt generalization. We'll take a probabilistic approach:\n",
    "- Use teacher forcing with some probability $p_\\mathrm{tf}$.\n",
    "- Start $p_\\mathrm{tf}$ high and decrease each epoch.\n",
    "- For inference, set $p_\\mathrm{tf}=0$."
   ]
  },
  {
   "cell_type": "code",
   "execution_count": 16,
   "metadata": {
    "execution": {
     "iopub.execute_input": "2022-03-24T07:25:24.513086Z",
     "iopub.status.busy": "2022-03-24T07:25:24.512942Z",
     "iopub.status.idle": "2022-03-24T07:25:24.533255Z",
     "shell.execute_reply": "2022-03-24T07:25:24.532885Z"
    },
    "slideshow": {
     "slide_type": "subslide"
    }
   },
   "outputs": [],
   "source": [
    "class Seq2Seq(nn.Module):\n",
    "    def __init__(self, encoder: Seq2SeqEncoder, decoder: Seq2SeqDecoder):\n",
    "        super().__init__()\n",
    "        self.enc = encoder\n",
    "        self.dec = decoder\n",
    "    \n",
    "    def forward(self, x_src, x_tgt, p_tf=0, **kw):\n",
    "        # input shapes: (S1, B), (S2, B)\n",
    "        # p_tf: probaility of teacher-forcing decoder input. Zero means greedy-search prediction.\n",
    "        S2, B = x_tgt.shape\n",
    "        \n",
    "        # Forward pass through encoder (entire source seq together)\n",
    "        # context is (L, B, H)\n",
    "        enc_h, context = self.enc(x_src, **kw)\n",
    "        \n",
    "        # First input is first target token\n",
    "        dec_input = x_tgt[[0], :] # (1, B)\n",
    "        # Loop over tokens in target sequence and feed them to the decoder\n",
    "        dec_outputs = []\n",
    "        for t in range(1, S2):\n",
    "            # Feed the decoder sequences of length 1 & save new context\n",
    "            # dec_output is (1, B, V)\n",
    "            # Note: enc_h is for Part 2, ignored by Part 1's decoder\n",
    "            dec_output, context = self.dec(dec_input, context, enc_h=enc_h, **kw)\n",
    "            dec_outputs.append(dec_output)\n",
    "            \n",
    "            # For next input, take either:\n",
    "            # - next target token (AKA \"teacher forcing\"), with proba p_tf\n",
    "            # - highest scoring output (greedy prediction of next token), with proba 1-p_tf\n",
    "            if p_tf > torch.rand(1).item():\n",
    "                dec_input = x_tgt[[t], :] # (1, B)\n",
    "            else:\n",
    "                dec_input = torch.argmax(dec_output, dim=2) # (1,B,V) -> (1, B)\n",
    "            \n",
    "        # Stack decoder outputs from all timesteps\n",
    "        y_hat = torch.cat(dec_outputs, dim=0) # (S-1)x(1,B,V) -> (S-1,B,V)\n",
    "        \n",
    "        # Output shape: (S-1, B, V)\n",
    "        return y_hat"
   ]
  },
  {
   "cell_type": "markdown",
   "metadata": {
    "slideshow": {
     "slide_type": "subslide"
    }
   },
   "source": [
    "Test the `Seq2Seq` model:"
   ]
  },
  {
   "cell_type": "code",
   "execution_count": 17,
   "metadata": {
    "execution": {
     "iopub.execute_input": "2022-03-24T07:25:24.535253Z",
     "iopub.status.busy": "2022-03-24T07:25:24.535138Z",
     "iopub.status.idle": "2022-03-24T07:25:24.568322Z",
     "shell.execute_reply": "2022-03-24T07:25:24.567963Z"
    },
    "scrolled": true,
    "slideshow": {
     "slide_type": "fragment"
    }
   },
   "outputs": [
    {
     "name": "stdout",
     "output_type": "stream",
     "text": [
      "y_hat: (S-1, B, V_tgt) = (13, 4, 5893)\n"
     ]
    }
   ],
   "source": [
    "seq2seq_model = Seq2Seq(enc, dec)\n",
    "yhat = seq2seq_model(x0, y0)\n",
    "print('y_hat: (S-1, B, V_tgt) =', tuple(yhat.shape))"
   ]
  },
  {
   "cell_type": "markdown",
   "metadata": {
    "slideshow": {
     "slide_type": "subslide"
    }
   },
   "source": [
    "### Training and evaluation"
   ]
  },
  {
   "cell_type": "markdown",
   "metadata": {
    "slideshow": {
     "slide_type": "fragment"
    }
   },
   "source": [
    "The training logic is fairly standard, with only a few nuances:\n",
    "- Notice that the output sequence is shorter than the ground truth due to the `<sos>` token\n",
    "- Clip gradient norm to prevent high grads and stabilize training\n",
    "- When computing the loss, we'll use Cross Entropy, but ignore the `<pad>` tokens\n",
    "\n",
    "The following code trains the model for a **single epoch**:"
   ]
  },
  {
   "cell_type": "code",
   "execution_count": 18,
   "metadata": {
    "execution": {
     "iopub.execute_input": "2022-03-24T07:25:24.570433Z",
     "iopub.status.busy": "2022-03-24T07:25:24.570315Z",
     "iopub.status.idle": "2022-03-24T07:25:24.588094Z",
     "shell.execute_reply": "2022-03-24T07:25:24.587774Z"
    },
    "slideshow": {
     "slide_type": "subslide"
    }
   },
   "outputs": [],
   "source": [
    "def train_seq2seq(model, dl_train, optimizer, loss_fn, p_tf=1., clip_grad=1., max_batches=None):\n",
    "    losses = []\n",
    "    with tqdm.tqdm(total=(max_batches if max_batches else len(dl_train)), file=sys.stdout) as pbar:\n",
    "        for idx_batch, batch in enumerate(dl_train, start=1):\n",
    "            x, x_len = batch.src\n",
    "            y, y_len =  batch.trg\n",
    "\n",
    "            # Forward pass: encoder and decoder\n",
    "            # Output y_hat is the translated sequence\n",
    "            y_hat = model(x, y, p_tf, src_len=x_len)\n",
    "            S, B, V = y_hat.shape\n",
    "\n",
    "            # y[:,i] is: <sos>, w_1,  w_2, ...,  w_k,  <eos>,  <pad>, ...\n",
    "            # y_hat is:         w_1', w_2', ..., w_k', <eos>', <pad>', ...\n",
    "            # based on the above, get ground truth y\n",
    "            y_gt = y[1:, :].reshape(S*B)  # drop <sos>\n",
    "            y_hat = y_hat.reshape(S*B, V)\n",
    "\n",
    "            # Calculate loss compared to ground truth y\n",
    "            optimizer.zero_grad()\n",
    "            loss = loss_fn(y_hat, y_gt)\n",
    "            loss.backward()\n",
    "\n",
    "            # Prevent large gradients\n",
    "            if clip_grad > 0:\n",
    "                torch.nn.utils.clip_grad_norm_(model.parameters(), clip_grad)\n",
    "\n",
    "            # Update parameters\n",
    "            optimizer.step()\n",
    "\n",
    "            losses.append(loss.item())\n",
    "            pbar.update(); pbar.set_description(f'train loss={losses[-1]:.3f}')\n",
    "            if max_batches and idx_batch >= max_batches:\n",
    "                break\n",
    "    return losses"
   ]
  },
  {
   "cell_type": "markdown",
   "metadata": {
    "slideshow": {
     "slide_type": "subslide"
    }
   },
   "source": [
    "In evaluation mode, we do roughly the same, but make sure to not use teacher forcing.\n",
    "\n",
    "Note that in the context of machine translation, usually a different accuracy metric is used (BLEU score), instead of simple token-based accuracy. Here we just use a function from the `nltk` package to calculate it, as an example."
   ]
  },
  {
   "cell_type": "markdown",
   "metadata": {
    "slideshow": {
     "slide_type": "subslide"
    }
   },
   "source": [
    "### Bleu Score\n",
    "\n",
    "bilingual evaluation understudy"
   ]
  },
  {
   "cell_type": "markdown",
   "metadata": {
    "slideshow": {
     "slide_type": "subslide"
    }
   },
   "source": [
    "the simple sentence bleu score is given by a unigram precision\n",
    "\n",
    "$$\\mathcal{P}= \\frac{M}{w_t}$$\n",
    "\n",
    "where $M$ is the apearances of words in our prediction that exist in the ground truth, and \n",
    "$w_t$ is the prediction lenght.\n",
    "\n",
    "note that there could be more then one ground truth, and sometimes we use more then one as reference."
   ]
  },
  {
   "cell_type": "markdown",
   "metadata": {
    "slideshow": {
     "slide_type": "subslide"
    }
   },
   "source": [
    "let's demostrate with an example and modify a bit:<br>\n",
    "Candidate prediction: `the the the the the the the`<br>\n",
    "Reference 1: `the cat is on the mat`<br>\n",
    "Reference 2: `there is a cat on the mat`<br>\n",
    "\n",
    "\n",
    "* The unigram bleu score would be 7/7 = 1"
   ]
  },
  {
   "cell_type": "markdown",
   "metadata": {
    "slideshow": {
     "slide_type": "fragment"
    }
   },
   "source": [
    "We can modify $M$ to $M_{max}$, that is, the maximum amount of times the word apeare in one of the refrences: 2/7\n",
    "\n",
    "Other improvement is to use bi-grams, that leads in that case to a score of 0 (note that in this case $w_t$=6) \n",
    "\n",
    "finally, the actuall score looks like\n",
    "\n",
    "<center><img src=\"img/bleu.png\" width=\"1100\"></center>\n"
   ]
  },
  {
   "cell_type": "code",
   "execution_count": 19,
   "metadata": {
    "execution": {
     "iopub.execute_input": "2022-03-24T07:25:24.590125Z",
     "iopub.status.busy": "2022-03-24T07:25:24.590016Z",
     "iopub.status.idle": "2022-03-24T07:25:24.949963Z",
     "shell.execute_reply": "2022-03-24T07:25:24.949562Z"
    },
    "slideshow": {
     "slide_type": "subslide"
    }
   },
   "outputs": [],
   "source": [
    "import numpy as np\n",
    "from nltk.translate.bleu_score import sentence_bleu\n",
    "\n",
    "def eval_seq2seq(model, dl_test):\n",
    "    accuracies = []\n",
    "    bleus = []\n",
    "    with tqdm.tqdm(total=len(dl_test), file=sys.stdout) as pbar:\n",
    "        for idx_batch, batch in enumerate(dl_test):\n",
    "            x, x_len = batch.src\n",
    "            y, y_len =  batch.trg\n",
    "\n",
    "            with torch.no_grad():\n",
    "                # Note: no teacher forcing in eval\n",
    "                y_hat = model(x, y, p_tf=0, src_len=x_len)\n",
    "\n",
    "            S, B, V = y_hat.shape\n",
    "\n",
    "            y_gt = y[1:, :] # drop <sos>\n",
    "            y_hat = torch.argmax(y_hat, dim=2) # greedy-sample (S, B, V) -> (S,B)\n",
    "\n",
    "            # Compare prediction to ground truth\n",
    "            accuracies.append(torch.sum(y_gt == y_hat) / float(S))\n",
    "            bleus.append(np.mean([\n",
    "                sentence_bleu([y_gt[:, i]], y_hat[:, i]) for i in range(B)\n",
    "            ]))\n",
    "\n",
    "            pbar.update(); pbar.set_description(f'eval acc={accuracies[-1]}')\n",
    "    return accuracies, bleus"
   ]
  },
  {
   "cell_type": "markdown",
   "metadata": {
    "slideshow": {
     "slide_type": "subslide"
    }
   },
   "source": [
    "Lets run training on a small model for a few epochs, just to see if it works."
   ]
  },
  {
   "cell_type": "code",
   "execution_count": 20,
   "metadata": {
    "execution": {
     "iopub.execute_input": "2022-03-24T07:25:24.952038Z",
     "iopub.status.busy": "2022-03-24T07:25:24.951922Z",
     "iopub.status.idle": "2022-03-24T07:25:59.162360Z",
     "shell.execute_reply": "2022-03-24T07:25:59.161944Z"
    },
    "slideshow": {
     "slide_type": "subslide"
    }
   },
   "outputs": [
    {
     "name": "stdout",
     "output_type": "stream",
     "text": [
      "=== EPOCH 1/2, p_tf=1.00 ===\n",
      "train loss=5.108: 100%|█████████████████████████████████████████████████████████████████████████████████████████████████████████████████████████| 25/25 [00:17<00:00,  1.47it/s]\n",
      "eval acc=2.696969747543335: 100%|███████████████████████████████████████████████████████████████████████████████████████████████████████████████| 16/16 [00:02<00:00,  5.74it/s]\n",
      "=== EPOCH 2/2, p_tf=0.95 ===\n",
      "train loss=4.834: 100%|█████████████████████████████████████████████████████████████████████████████████████████████████████████████████████████| 25/25 [00:15<00:00,  1.65it/s]\n",
      "eval acc=2.8181817531585693: 100%|██████████████████████████████████████████████████████████████████████████████████████████████████████████████| 16/16 [00:03<00:00,  5.12it/s]\n"
     ]
    }
   ],
   "source": [
    "# Use small model and dataset so that training is fast, just an example\n",
    "BATCH_SIZE = 64\n",
    "EMB_DIM = 64\n",
    "HID_DIM = 128\n",
    "NUM_LAYERS = 2\n",
    "GRAD_CLIP = 1.\n",
    "EPOCHS = 2\n",
    "BATCHES_PER_EPOCH=25\n",
    "\n",
    "dl_train, dl_valid, dl_test = BucketIterator.splits((ds_train, ds_valid, ds_test), batch_size=BATCH_SIZE)\n",
    "\n",
    "enc = Seq2SeqEncoder(V_src, EMB_DIM, NUM_LAYERS, HID_DIM)\n",
    "dec = Seq2SeqDecoder(V_tgt, EMB_DIM, NUM_LAYERS, HID_DIM)\n",
    "seq2seq_model = Seq2Seq(enc, dec)\n",
    "\n",
    "optimizer = torch.optim.Adam(seq2seq_model.parameters(), lr=1e-2)\n",
    "\n",
    "# Note: We don't compute loss from padding tokens\n",
    "loss_fn = nn.CrossEntropyLoss(ignore_index=PAD_TOKEN)\n",
    "\n",
    "losses = []\n",
    "accuracies = []\n",
    "for idx_epoch in range(EPOCHS):\n",
    "    # Linearly decay amount of teacher forcing for the first 20 epochs (example)\n",
    "    p_tf = 1 - min((idx_epoch / 20), 1)\n",
    "    \n",
    "    print(f'=== EPOCH {idx_epoch+1}/{EPOCHS}, p_tf={p_tf:.2f} ===')\n",
    "    losses += train_seq2seq(seq2seq_model, dl_train, optimizer, loss_fn, p_tf, GRAD_CLIP, BATCHES_PER_EPOCH)\n",
    "    accuracies += eval_seq2seq(seq2seq_model, dl_valid)[0]"
   ]
  },
  {
   "cell_type": "code",
   "execution_count": 21,
   "metadata": {
    "execution": {
     "iopub.execute_input": "2022-03-24T07:25:59.164284Z",
     "iopub.status.busy": "2022-03-24T07:25:59.164164Z",
     "iopub.status.idle": "2022-03-24T07:25:59.314175Z",
     "shell.execute_reply": "2022-03-24T07:25:59.313872Z"
    },
    "slideshow": {
     "slide_type": "subslide"
    }
   },
   "outputs": [
    {
     "data": {
      "image/png": "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\n",
      "text/plain": [
       "<Figure size 1080x360 with 2 Axes>"
      ]
     },
     "metadata": {
      "needs_background": "light"
     },
     "output_type": "display_data"
    }
   ],
   "source": [
    "fig, ax = plt.subplots(nrows=1, ncols=2, figsize=(15,5))\n",
    "ax[0].plot(losses); ax[0].set_title('train loss'); ax[0].set_xlabel('iteration'); ax[0].grid(True)\n",
    "ax[1].plot(accuracies); ax[1].set_title('eval accuracy'); ax[1].set_xlabel('iteration'); ax[1].grid(True)"
   ]
  },
  {
   "cell_type": "markdown",
   "metadata": {
    "slideshow": {
     "slide_type": "subslide"
    }
   },
   "source": [
    "Now we just need to train for a few days on multiple GPUs to get descent results :)"
   ]
  },
  {
   "cell_type": "markdown",
   "metadata": {
    "slideshow": {
     "slide_type": "subslide"
    }
   },
   "source": [
    "What information is captured by the final encoder hidden state when we train such a model end-to-end?"
   ]
  },
  {
   "cell_type": "markdown",
   "metadata": {
    "slideshow": {
     "slide_type": "fragment"
    }
   },
   "source": [
    "Intuitively, we expect it to contain the \"meaning\" of the **entire** sentence, so that the decoder can translate it based on this alone.\n",
    "\n",
    "Sutskever et al. demonstrate this by applying a 2D PCA to the last encoder hidden state:"
   ]
  },
  {
   "cell_type": "markdown",
   "metadata": {
    "slideshow": {
     "slide_type": "subslide"
    }
   },
   "source": [
    "<center><img src=\"img/sutskever2014_pca.png\", width=\"1400\"></center>"
   ]
  },
  {
   "cell_type": "markdown",
   "metadata": {
    "slideshow": {
     "slide_type": "fragment"
    }
   },
   "source": [
    "We can see that sentences with similar meanings appear to be clustered together, i.e. they have a similar representation.\n",
    "\n",
    "What is the major limitation of this approach though?"
   ]
  },
  {
   "cell_type": "markdown",
   "metadata": {
    "slideshow": {
     "slide_type": "subslide"
    }
   },
   "source": [
    "Limitation: In this architecture the encoder's last hidden state must encode all the information the decoder needs for translation. It must represent the entire meaning of the source sentence.\n",
    "\n",
    "Local information, i.e. the encoder outputs and intermediate hidden states is discarded.\n",
    "\n",
    "Can we somehow use this local info to help the decoder?"
   ]
  },
  {
   "cell_type": "markdown",
   "metadata": {
    "slideshow": {
     "slide_type": "slide"
    }
   },
   "source": [
    "## Part 2: Using Attention for Alignment"
   ]
  },
  {
   "cell_type": "markdown",
   "metadata": {
    "slideshow": {
     "slide_type": "fragment"
    }
   },
   "source": [
    "Now we'll add attention to our model in order to use the encoder's intermediate information. This will allow our decoder to **focus** on different parts of the **source** sequence while it's generating the target sequence.\n",
    "\n",
    "The approach here is based on the classic paper \"Neural Machine Translation by Jointly Learning to Align and Translate\" by [Bahdanau et al.](http://arxiv.org/abs/1409.0473) (ICLR, 2015)."
   ]
  },
  {
   "cell_type": "markdown",
   "metadata": {
    "slideshow": {
     "slide_type": "subslide"
    }
   },
   "source": [
    "How should we use attention to allow the decoder to focus on different parts on the input?"
   ]
  },
  {
   "cell_type": "markdown",
   "metadata": {
    "slideshow": {
     "slide_type": "subslide"
    }
   },
   "source": [
    "- We'll treat the encoder's outputs (last layer's hidden states) both as the keys and as the values.\n",
    "- We'll use the decoder's hidden state as a query at each time step.\n",
    "- The attention output will therefore be a weighed average of the encoder outputs most matching the current decoder state.\n",
    "- The output will be treated as a **context**, and concatenated to the decoder input in the next time step."
   ]
  },
  {
   "cell_type": "markdown",
   "metadata": {
    "slideshow": {
     "slide_type": "fragment"
    }
   },
   "source": [
    "<center><img src=\"img/seq2seq_attention.svg\" width=1200></center>"
   ]
  },
  {
   "cell_type": "markdown",
   "metadata": {
    "slideshow": {
     "slide_type": "subslide"
    }
   },
   "source": [
    "Note that with this approach, the encoder's last hidden state no longer needs to convey the entire meaning because decoder can look at different parts of the source sequence."
   ]
  },
  {
   "cell_type": "markdown",
   "metadata": {
    "slideshow": {
     "slide_type": "subslide"
    }
   },
   "source": [
    "### Implementing Attention"
   ]
  },
  {
   "cell_type": "markdown",
   "metadata": {
    "slideshow": {
     "slide_type": "fragment"
    }
   },
   "source": [
    "To start, lets first implement an additive attention block using a 2-layer MLP."
   ]
  },
  {
   "cell_type": "markdown",
   "metadata": {
    "slideshow": {
     "slide_type": "fragment"
    }
   },
   "source": [
    "As we saw previously, in this type of attention the similarity (\"energy\") function is \n",
    "\n",
    "$$\n",
    "e(\\vec{k},\\vec{q}) = \\vectr{w} \\tanh(\\mat{W}_k\\vec{k} + \\mat{W}_q\\vec{q}),\n",
    "$$\n",
    "\n",
    "where $\\mat{W}_k\\in\\set{R}^{h\\times d_k}$, $\\mat{W}_q\\in\\set{R}^{h\\times d_q}$ and $\\vec{w}\\in\\set{R}^{h}$ are trainable parameters."
   ]
  },
  {
   "cell_type": "markdown",
   "metadata": {
    "slideshow": {
     "slide_type": "fragment"
    }
   },
   "source": [
    "An important detail is that since we're using the encoder outputs as key/values, and some outputs correspond to `<pad>` tokens, we need a way to tell our attention block to ignore these outputs (give them zero attention weight).\n",
    "\n",
    "We'll add a `seq_len` argument to our attention which should specify the length of the sequence without padding."
   ]
  },
  {
   "cell_type": "code",
   "execution_count": 23,
   "metadata": {
    "execution": {
     "iopub.execute_input": "2022-03-24T07:25:59.317133Z",
     "iopub.status.busy": "2022-03-24T07:25:59.316979Z",
     "iopub.status.idle": "2022-03-24T07:25:59.342192Z",
     "shell.execute_reply": "2022-03-24T07:25:59.341866Z"
    },
    "slideshow": {
     "slide_type": "subslide"
    }
   },
   "outputs": [],
   "source": [
    "from torch import Tensor\n",
    "class MLPAttention(nn.Module):\n",
    "    def __init__(self, q_dim, k_dim, v_dim, h_dim):\n",
    "        super().__init__()\n",
    "        self.wk = nn.Linear(k_dim, h_dim, bias=False)\n",
    "        self.wq = nn.Linear(q_dim, h_dim, bias=False)\n",
    "        self.w  = nn.Linear(h_dim, 1, bias=False)\n",
    "        \n",
    "    def forward(self, q: Tensor, k: Tensor, v: Tensor, seq_len: Tensor=None):\n",
    "        # q: Queries tensor of shape (B, Q, q_dim)\n",
    "        # k: Keys tensor of shape (B, K, k_dim)\n",
    "        # v: Values tensor of shape (B, K, v_dim)\n",
    "        # seq_len: Sequence lengths tensor of shape (B,). Specifies how many key/values are valid in each example.\n",
    "        # output: (B, Q, v_dim) tensor, containing attention-weighted values for each query\n",
    "        \n",
    "        # Project keys to hidden dimension\n",
    "        # (B, K, k_dim) -> (B, K, h_dim) -> (B, 1, K, h_dim)\n",
    "        wk_k = self.wk(k).unsqueeze(1)\n",
    "        \n",
    "        # Project queries to hidden dimension\n",
    "        # (B, Q, q_dim)  -> (B, Q, h_dim)  -> (B, Q, 1, h_dim)\n",
    "        wq_q = self.wq(q).unsqueeze(2)\n",
    "        \n",
    "        # First layer of MLP: Use broadcast-addition to combine, then apply nonlinearity\n",
    "        # (B, Q, K, h_dim)\n",
    "        z1 = torch.tanh(wq_q + wk_k)\n",
    "        \n",
    "        # Second layer of MLP\n",
    "        # (B, Q, K, h_dim) -> (B, Q, K, 1) -> (B, Q, K)\n",
    "        # z2 contains similarity scores (pre-softmax) for each query-key pair.\n",
    "        z2 = self.w(z1).squeeze(dim=-1)\n",
    "        \n",
    "        # Mask z2 before applying softmax: only seq_len keys are non-padding in each of the B samples\n",
    "        if seq_len is not None:\n",
    "            B, Q, K = z2.shape\n",
    "            idx = torch.arange(K).expand_as(z2)    # (B,Q,K) containing indices 0..K-1\n",
    "            mask = idx >= seq_len.reshape(B, 1, 1) # mask selects indices greater than seq_len\n",
    "            z2[mask] = float('-inf')               # set selected to -inf to prevent influence on softmax\n",
    "        \n",
    "        # Apply softmax on last dimension to get attention weights, per query\n",
    "        a = torch.softmax(z2, dim=-1)\n",
    "        \n",
    "        # Apply the attention weights to the values, per query\n",
    "        # (B, Q, K) * (B, K, v_dim) -> (B, Q, v_dim)\n",
    "        return torch.bmm(a, v)"
   ]
  },
  {
   "cell_type": "markdown",
   "metadata": {
    "slideshow": {
     "slide_type": "subslide"
    }
   },
   "source": [
    "To test the attention block, lets create some simple queries and key-value pairs."
   ]
  },
  {
   "cell_type": "code",
   "execution_count": 25,
   "metadata": {
    "execution": {
     "iopub.execute_input": "2022-03-24T07:25:59.344068Z",
     "iopub.status.busy": "2022-03-24T07:25:59.343962Z",
     "iopub.status.idle": "2022-03-24T07:25:59.365292Z",
     "shell.execute_reply": "2022-03-24T07:25:59.365000Z"
    },
    "scrolled": true,
    "slideshow": {
     "slide_type": "fragment"
    }
   },
   "outputs": [
    {
     "name": "stdout",
     "output_type": "stream",
     "text": [
      "q (B, Q, q_dim) = (2, 1, 3):\n",
      " tensor([[[1., 1., 1.]],\n",
      "\n",
      "        [[1., 1., 1.]]])\n"
     ]
    }
   ],
   "source": [
    "# Create one query of dim 3 (but in a batch of 2)\n",
    "q = torch.ones((2, 1, 3), dtype=torch.float)\n",
    "print(f'q (B, Q, q_dim) = {tuple(q.shape)}:\\n', q)"
   ]
  },
  {
   "cell_type": "code",
   "execution_count": 27,
   "metadata": {
    "execution": {
     "iopub.execute_input": "2022-03-24T07:25:59.366955Z",
     "iopub.status.busy": "2022-03-24T07:25:59.366856Z",
     "iopub.status.idle": "2022-03-24T07:25:59.389038Z",
     "shell.execute_reply": "2022-03-24T07:25:59.388715Z"
    },
    "scrolled": true,
    "slideshow": {
     "slide_type": "fragment"
    }
   },
   "outputs": [
    {
     "name": "stdout",
     "output_type": "stream",
     "text": [
      "k (B, K, k_dim) = (2, 4, 2):\n",
      " tensor([[[1., 1.],\n",
      "         [1., 1.],\n",
      "         [1., 1.],\n",
      "         [1., 1.]],\n",
      "\n",
      "        [[1., 1.],\n",
      "         [1., 1.],\n",
      "         [1., 1.],\n",
      "         [1., 1.]]])\n",
      "v (B, K, v_dim) = (2, 4, 5):\n",
      " tensor([[[ 0.,  4.,  8., 12., 16.],\n",
      "         [ 1.,  5.,  9., 13., 17.],\n",
      "         [ 2.,  6., 10., 14., 18.],\n",
      "         [ 3.,  7., 11., 15., 19.]],\n",
      "\n",
      "        [[20., 24., 28., 32., 36.],\n",
      "         [21., 25., 29., 33., 37.],\n",
      "         [22., 26., 30., 34., 38.],\n",
      "         [23., 27., 31., 35., 39.]]])\n"
     ]
    }
   ],
   "source": [
    "# Create 4 key-value pairs\n",
    "k = torch.ones(2, 4, 2, dtype=torch.float)\n",
    "print(f'k (B, K, k_dim) = {tuple(k.shape)}:\\n', k)\n",
    "v = torch.arange(40, dtype=torch.float).reshape(2, 5, 4).transpose(1, 2)\n",
    "print(f'v (B, K, v_dim) = {tuple(v.shape)}:\\n', v)"
   ]
  },
  {
   "cell_type": "code",
   "execution_count": 31,
   "metadata": {
    "execution": {
     "iopub.execute_input": "2022-03-24T07:25:59.390707Z",
     "iopub.status.busy": "2022-03-24T07:25:59.390623Z",
     "iopub.status.idle": "2022-03-24T07:25:59.410969Z",
     "shell.execute_reply": "2022-03-24T07:25:59.410661Z"
    },
    "slideshow": {
     "slide_type": "subslide"
    }
   },
   "outputs": [],
   "source": [
    "attn = MLPAttention(q_dim=3, k_dim=2, v_dim=5, h_dim=100)"
   ]
  },
  {
   "cell_type": "code",
   "execution_count": 32,
   "metadata": {
    "execution": {
     "iopub.execute_input": "2022-03-24T07:25:59.412735Z",
     "iopub.status.busy": "2022-03-24T07:25:59.412657Z",
     "iopub.status.idle": "2022-03-24T07:25:59.435100Z",
     "shell.execute_reply": "2022-03-24T07:25:59.434733Z"
    },
    "slideshow": {
     "slide_type": "fragment"
    }
   },
   "outputs": [
    {
     "name": "stdout",
     "output_type": "stream",
     "text": [
      "tensor([[[ 1.5000,  5.5000,  9.5000, 13.5000, 17.5000]],\n",
      "\n",
      "        [[21.5000, 25.5000, 29.5000, 33.5000, 37.5000]]],\n",
      "       grad_fn=<BmmBackward0>)\n",
      "(B, Q, v_dim) = torch.Size([2, 1, 5])\n"
     ]
    }
   ],
   "source": [
    "y = attn(q, k, v, seq_len=None)\n",
    "print(y)\n",
    "print(f'(B, Q, v_dim) = {y.shape}')"
   ]
  },
  {
   "cell_type": "markdown",
   "metadata": {
    "slideshow": {
     "slide_type": "fragment"
    }
   },
   "source": [
    "Output is a sequence of length 1 because we had one query.\n",
    "\n",
    "Notice that the result is an average of the values, since all keys are equally similar to the query."
   ]
  },
  {
   "cell_type": "markdown",
   "metadata": {
    "slideshow": {
     "slide_type": "subslide"
    }
   },
   "source": [
    "Let's try with `seq_len=1`, i.e. only the first token in the input is considered valid (not padding):"
   ]
  },
  {
   "cell_type": "code",
   "execution_count": 33,
   "metadata": {
    "execution": {
     "iopub.execute_input": "2022-03-24T07:25:59.437362Z",
     "iopub.status.busy": "2022-03-24T07:25:59.437213Z",
     "iopub.status.idle": "2022-03-24T07:25:59.461772Z",
     "shell.execute_reply": "2022-03-24T07:25:59.461397Z"
    },
    "slideshow": {
     "slide_type": "fragment"
    }
   },
   "outputs": [
    {
     "data": {
      "text/plain": [
       "tensor([[[ 0.,  4.,  8., 12., 16.]],\n",
       "\n",
       "        [[20., 24., 28., 32., 36.]]], grad_fn=<BmmBackward0>)"
      ]
     },
     "execution_count": 33,
     "metadata": {},
     "output_type": "execute_result"
    }
   ],
   "source": [
    "attn(q, k, v, seq_len=torch.tensor([1, 1]))"
   ]
  },
  {
   "cell_type": "markdown",
   "metadata": {
    "slideshow": {
     "slide_type": "fragment"
    }
   },
   "source": [
    "Since `seq_len=1`, the output exactly equals the first value `v[:,0,:]` since only it received nonzero attention."
   ]
  },
  {
   "cell_type": "markdown",
   "metadata": {
    "slideshow": {
     "slide_type": "subslide"
    }
   },
   "source": [
    "Now lets use `seq_len` to take the first two values in the first example, and all values in the second example."
   ]
  },
  {
   "cell_type": "code",
   "execution_count": 35,
   "metadata": {
    "execution": {
     "iopub.execute_input": "2022-03-24T07:25:59.463900Z",
     "iopub.status.busy": "2022-03-24T07:25:59.463768Z",
     "iopub.status.idle": "2022-03-24T07:25:59.487095Z",
     "shell.execute_reply": "2022-03-24T07:25:59.486776Z"
    },
    "scrolled": true,
    "slideshow": {
     "slide_type": "fragment"
    }
   },
   "outputs": [
    {
     "data": {
      "text/plain": [
       "tensor([[[ 0.5000,  4.5000,  8.5000, 12.5000, 16.5000]],\n",
       "\n",
       "        [[21.5000, 25.5000, 29.5000, 33.5000, 37.5000]]],\n",
       "       grad_fn=<BmmBackward0>)"
      ]
     },
     "execution_count": 35,
     "metadata": {},
     "output_type": "execute_result"
    }
   ],
   "source": [
    "attn(q, k, v, seq_len=torch.tensor([2, 4]))"
   ]
  },
  {
   "cell_type": "markdown",
   "metadata": {
    "slideshow": {
     "slide_type": "fragment"
    }
   },
   "source": [
    "We can see the first result is the average of the first two values, and the second result is the average of all four."
   ]
  },
  {
   "cell_type": "markdown",
   "metadata": {
    "slideshow": {
     "slide_type": "subslide"
    }
   },
   "source": [
    "### Updating the Model"
   ]
  },
  {
   "cell_type": "markdown",
   "metadata": {
    "slideshow": {
     "slide_type": "fragment"
    }
   },
   "source": [
    "Now we're ready to add the attention block to our model.\n",
    "\n",
    "To do this, we only need to modify our `Seq2SeqDecoder` class. The rest can stay the same.\n",
    "\n",
    "The decoder's `forward` method now needs to also receive all the encoder outputs (`enc_h`) and the length (without padding) of the source sequence (`src_len`)."
   ]
  },
  {
   "cell_type": "code",
   "execution_count": 37,
   "metadata": {
    "execution": {
     "iopub.execute_input": "2022-03-24T07:25:59.489621Z",
     "iopub.status.busy": "2022-03-24T07:25:59.489429Z",
     "iopub.status.idle": "2022-03-24T07:25:59.518226Z",
     "shell.execute_reply": "2022-03-24T07:25:59.517904Z"
    },
    "slideshow": {
     "slide_type": "subslide"
    }
   },
   "outputs": [],
   "source": [
    "class Seq2SeqDecoderAttn(nn.Module):\n",
    "    def __init__(self, vocab_size, embedding_dim, num_layers, h_dim, dropout=0.2):\n",
    "        super().__init__()\n",
    "        self.embedding = nn.Embedding(vocab_size, embedding_dim)\n",
    "        \n",
    "        # The Q, K, V dims are all h_dim because of how we parametrized encoder and decoder\n",
    "        self.attn = MLPAttention(h_dim, h_dim, h_dim, h_dim)\n",
    "        \n",
    "        # Note: GRU input dim now includes both embedding and attention output!\n",
    "        self.rnn = nn.GRU(embedding_dim + h_dim*num_layers, h_dim, num_layers=num_layers, dropout=dropout)\n",
    "        \n",
    "        self.out_fc = nn.Linear(h_dim, vocab_size)\n",
    "        \n",
    "    def forward(self, x, h_prev, enc_h, src_len, **kw):\n",
    "        # x shape: (S, B)\n",
    "        # h_prev:  (L, B, H) the initial/previous hidden state (L queries for attention)\n",
    "        # enc_h:   (S', B, H) all outputs from encoder (S' key-value pairs for attention)\n",
    "        # src_len: (B,) the length without padding of the encoder's sequence\n",
    "        S, B = x.shape\n",
    "        embedded = self.embedding(x) # embedded shape: (S, B, E)\n",
    "        \n",
    "        # Apply attention: Query is prev hidden state; key/vals are enc outputs without positions of padding\n",
    "        q  = h_prev.transpose(0, 1) # (B, L, H)\n",
    "        kv = enc_h.transpose(0, 1)  # (B, S, H)\n",
    "        a  = self.attn(q, kv, kv, seq_len=src_len)  # (B, L, H)\n",
    "        \n",
    "        # Create RNN input by concatenating attention-based context with the embedded inputs\n",
    "        # Note that when used with Seq2Seq we have S=1 so the expand is a no-op\n",
    "        # (B, L, H) -> (1, B, L*H) -> (S, B, L*H)\n",
    "        a = a.reshape(1, B, -1).expand(S, -1, -1)\n",
    "        rnn_input = torch.cat((embedded, a), dim=2) # (S, B, E + L*H)\n",
    "        \n",
    "        # h:  (S, B, H)\n",
    "        # ht: (L, B, H)\n",
    "        h, ht = self.rnn(rnn_input, h_prev)\n",
    "        \n",
    "        # Project H back to the vocab size V, to get a score per word\n",
    "        out = self.out_fc(h)\n",
    "        \n",
    "        # Out shapes: (S, B, V) and (L, B, H)\n",
    "        return out, ht"
   ]
  },
  {
   "cell_type": "markdown",
   "metadata": {
    "slideshow": {
     "slide_type": "subslide"
    }
   },
   "source": [
    "To train, we can use the exact same code we used before. Just need to change the decoder part of the model."
   ]
  },
  {
   "cell_type": "code",
   "execution_count": 38,
   "metadata": {
    "execution": {
     "iopub.execute_input": "2022-03-24T07:25:59.520295Z",
     "iopub.status.busy": "2022-03-24T07:25:59.520184Z",
     "iopub.status.idle": "2022-03-24T07:26:26.933655Z",
     "shell.execute_reply": "2022-03-24T07:26:26.933354Z"
    },
    "slideshow": {
     "slide_type": "subslide"
    }
   },
   "outputs": [
    {
     "name": "stdout",
     "output_type": "stream",
     "text": [
      "=== EPOCH 1/1, p_tf=1.00 ===\n",
      "train loss=5.387: 100%|█████████████████████████████████████████████████████████████████████████████████████████████████████████████████████████| 25/25 [00:22<00:00,  1.13it/s]\n",
      "eval acc=4.39393949508667: 100%|████████████████████████████████████████████████████████████████████████████████████████████████████████████████| 16/16 [00:03<00:00,  4.34it/s]\n"
     ]
    }
   ],
   "source": [
    "EPOCHS = 1\n",
    "\n",
    "dl_train, dl_valid, dl_test = BucketIterator.splits((ds_train, ds_valid, ds_test), batch_size=BATCH_SIZE)\n",
    "\n",
    "enc = Seq2SeqEncoder(V_src, EMB_DIM, NUM_LAYERS, HID_DIM)\n",
    "dec = Seq2SeqDecoderAttn(V_tgt, EMB_DIM, NUM_LAYERS, HID_DIM)\n",
    "seq2seq_model = Seq2Seq(enc, dec)\n",
    "\n",
    "optimizer = torch.optim.Adam(seq2seq_model.parameters(), lr=1e-2)\n",
    "\n",
    "# Note: We don't compute loss from padding tokens!\n",
    "loss_fn = nn.CrossEntropyLoss(ignore_index=PAD_TOKEN)\n",
    "\n",
    "losses = []\n",
    "accuracies = []\n",
    "for idx_epoch in range(EPOCHS):\n",
    "    # Linearly decay amount of teacher forcing fro the first 10 epochs (example)\n",
    "    p_tf = 1 - min((idx_epoch / 20), 1)\n",
    "    \n",
    "    print(f'=== EPOCH {idx_epoch+1}/{EPOCHS}, p_tf={p_tf:.2f} ===')\n",
    "    losses += train_seq2seq(seq2seq_model, dl_train, optimizer, loss_fn, p_tf, GRAD_CLIP, BATCHES_PER_EPOCH)\n",
    "    accuracies += eval_seq2seq(seq2seq_model, dl_valid)[0]"
   ]
  },
  {
   "cell_type": "code",
   "execution_count": 39,
   "metadata": {
    "execution": {
     "iopub.execute_input": "2022-03-24T07:26:26.935770Z",
     "iopub.status.busy": "2022-03-24T07:26:26.935662Z",
     "iopub.status.idle": "2022-03-24T07:26:27.068850Z",
     "shell.execute_reply": "2022-03-24T07:26:27.068541Z"
    },
    "slideshow": {
     "slide_type": "subslide"
    }
   },
   "outputs": [
    {
     "data": {
      "image/png": "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\n",
      "text/plain": [
       "<Figure size 1080x360 with 2 Axes>"
      ]
     },
     "metadata": {
      "needs_background": "light"
     },
     "output_type": "display_data"
    }
   ],
   "source": [
    "fig, ax = plt.subplots(nrows=1, ncols=2, figsize=(15,5))\n",
    "ax[0].plot(losses); ax[0].set_title('train loss'); ax[0].set_xlabel('iteration'); ax[0].grid(True)\n",
    "ax[1].plot(accuracies); ax[1].set_title('eval accuracy'); ax[1].set_xlabel('iteration'); ax[1].grid(True)"
   ]
  },
  {
   "cell_type": "markdown",
   "metadata": {
    "slideshow": {
     "slide_type": "subslide"
    }
   },
   "source": [
    "So what is the attention layer learning?"
   ]
  },
  {
   "cell_type": "markdown",
   "metadata": {
    "slideshow": {
     "slide_type": "subslide"
    }
   },
   "source": [
    "It's learning to predict the alignment between words in the source (English) and target (French) sentences.\n",
    "\n",
    "<center><img src=\"img/bahdanau2015-annotated.png\", width=\"1200\"></center>"
   ]
  },
  {
   "cell_type": "markdown",
   "metadata": {
    "slideshow": {
     "slide_type": "fragment"
    }
   },
   "source": [
    "The figure shows the attention weights applied by a trained model to every word in the source sequence (English) when generating the shown target sequence (French).\n",
    "We can see how the trained attention allows the decoder to look forward and back, for example when generating the translation of \"European Economic Area\"."
   ]
  },
  {
   "cell_type": "markdown",
   "metadata": {
    "slideshow": {
     "slide_type": "subslide"
    }
   },
   "source": [
    "#### Thanks for your attention :)"
   ]
  },
  {
   "cell_type": "markdown",
   "metadata": {
    "slideshow": {
     "slide_type": "skip"
    }
   },
   "source": [
    "**Credits**\n",
    "\n",
    "This tutorial was written by [Moshe Kimhi](https://mkimhi.github.io/).<br>\n",
    "To re-use, please provide attribution and link to the original.\n",
    "\n",
    "Some images in this tutorial were taken and/or adapted from the following sources:\n",
    "\n",
    "- Yi-Ling Hwong- https://cerenaut.ai/2017/09/22/attention-in-artificial-intelligence-systems/\n",
    "- K. Xu et al. 2015, http://proceedings.mlr.press/v37/xuc15.html\n",
    "- Sutskever et al. 2014, https://arxiv.org/abs/1409.3215\n",
    "- Bahdanau et al. 2015, http://arxiv.org/abs/1409.0473\n",
    "- Zhang et al., Dive into Deep Learning, 2019\n",
    "- Peter Bloem, http://www.peterbloem.nl/blog/transformers\n",
    "- Chris Olah, https://colah.github.io/posts/2015-08-Understanding-LSTMs/\n",
    "- Ben Trevett, http://bentrevett.com\n",
    "https://theaisummer.com/self-attention/"
   ]
  },
  {
   "cell_type": "code",
   "execution_count": null,
   "metadata": {},
   "outputs": [],
   "source": []
  }
 ],
 "metadata": {
  "celltoolbar": "Slideshow",
  "kernelspec": {
   "display_name": "Python 3 (ipykernel)",
   "language": "python",
   "name": "python3"
  },
  "language_info": {
   "codemirror_mode": {
    "name": "ipython",
    "version": 3
   },
   "file_extension": ".py",
   "mimetype": "text/x-python",
   "name": "python",
   "nbconvert_exporter": "python",
   "pygments_lexer": "ipython3",
   "version": "3.8.12"
  },
  "rise": {
   "scroll": true
  },
  "toc-autonumbering": false
 },
 "nbformat": 4,
 "nbformat_minor": 4
}
